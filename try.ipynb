{
 "cells": [
  {
   "cell_type": "code",
   "execution_count": 5,
   "id": "495cc9b1",
   "metadata": {},
   "outputs": [
    {
     "name": "stdout",
     "output_type": "stream",
     "text": [
      "defaultdict(<class 'list'>, {1: [2], 2: [1, 3]})\n",
      "{1: [2, 2, 2], 2: [1, 3, 1, 3, 1, 3]}\n"
     ]
    }
   ],
   "source": [
    "import collections\n",
    "\n"
   ]
  },
  {
   "cell_type": "code",
   "execution_count": 8,
   "id": "17b71f78",
   "metadata": {},
   "outputs": [
    {
     "name": "stdout",
     "output_type": "stream",
     "text": [
      "False\n"
     ]
    }
   ],
   "source": [
    "def canFinish(numCourses, prerequisites):\n",
    "    Border = {}\n",
    "    for k,v in prerequisites:\n",
    "        Border.setdefault(k,[]).append(v)\n",
    "\n",
    "    Visits = [0]*numCourses\n",
    "\n",
    "    def dfs(cour):\n",
    "        if cour not in Border.keys():\n",
    "            Visits[cour] = 1\n",
    "            return True\n",
    "        elif Visits[cour] == 1:\n",
    "            return True\n",
    "        elif Visits[cour] == 2:\n",
    "            return False\n",
    "        else:\n",
    "            Visits[cour] = 2\n",
    "            for elem in Border[cour]:\n",
    "                ans = dfs(elem)\n",
    "                if ans == False:\n",
    "                    return False\n",
    "            Visits[cour] = 1\n",
    "\n",
    "    for cour in range(numCourses):\n",
    "        #未搜索，则进行搜索\n",
    "        if Visits[cour]==0:\n",
    "            ans = dfs(cour)\n",
    "            if ans == False:\n",
    "                return False\n",
    "    return True\n",
    "\n",
    "\n",
    "numCourse = 2\n",
    "prerequisites = [[1,0],[0,1]]\n",
    "ans = canFinish(numCourse,prerequisites)\n",
    "print(ans)"
   ]
  },
  {
   "cell_type": "code",
   "execution_count": 1,
   "metadata": {},
   "outputs": [
    {
     "name": "stdout",
     "output_type": "stream",
     "text": [
      "torch.Size([1, 1024, 28, 28])\n"
     ]
    }
   ],
   "source": []
  },
  {
   "cell_type": "code",
   "execution_count": 3,
   "metadata": {},
   "outputs": [],
   "source": [
    "##将txt文件中每个词条后缀添加文字\n",
    "added = '.jpg'\n",
    "read_file_path = '/home/qxy/Desktop/datasets/VOC2012/data_annotation/trainval.txt'\n",
    "write_file_path = '/home/qxy/Desktop/datasets/VOC2012/data_annotation/trainval_R.txt'\n",
    "Sample_lis = []\n",
    "with open(read_file_path,'r') as f:\n",
    "    f = f.readlines()\n",
    "    for sample in f:\n",
    "        sample = sample.split('\\n')[0]+added+'\\n'\n",
    "        Sample_lis.append(sample)\n",
    "\n",
    "with open(write_file_path,'w') as f:\n",
    "    for sample in Sample_lis:\n",
    "        f.write(sample)"
   ]
  },
  {
   "cell_type": "markdown",
   "metadata": {},
   "source": [
    "### 组合出Top-1/Top-5结果"
   ]
  },
  {
   "cell_type": "code",
   "execution_count": 116,
   "metadata": {},
   "outputs": [
    {
     "name": "stdout",
     "output_type": "stream",
     "text": [
      "The autoreload extension is already loaded. To reload it, use:\n",
      "  %reload_ext autoreload\n"
     ]
    }
   ],
   "source": [
    "%load_ext autoreload\n",
    "%autoreload 2\n",
    "import json\n",
    "# cls_weight = '/home/qxy/Desktop/BigGan/weight_result/cls_result/resnet_CUB_cls_5794/data/classfication1.txt'\n",
    "# loc_weight = '/home/qxy/Desktop/BigGan/weight_result/IoU_data/CUB_SAL.json'\n",
    "\n",
    "# cls_weight = '/home/qxy/Desktop/BigGan/weight_result/cls_result/002402_ILSVRC_50000/classification5.json'\n",
    "# loc_weight = '/home/qxy/Desktop/BigGan/weight_result/IoU_data/ILSVRC_SAL.json'\n",
    "\n",
    "cls_weight = '/home/qxy/Desktop/BigGan/weight_result/cls_result/resnet_CUB_cls_5794/data/classfication1.txt'\n",
    "loc_weight = '/home/qxy/Desktop/beta/results/IoU_data/001726_CUB_5794.json'\n",
    "\n",
    "with open(cls_weight,'r') as f:\n",
    "    cls_result = json.load(f)\n",
    "\n",
    "with open(loc_weight,'r') as f:\n",
    "    loc_result = json.load(f)"
   ]
  },
  {
   "cell_type": "code",
   "execution_count": 117,
   "metadata": {},
   "outputs": [
    {
     "name": "stderr",
     "output_type": "stream",
     "text": [
      "100%|██████████| 5794/5794 [00:00<00:00, 111832.15it/s]\n",
      "100%|██████████| 5794/5794 [00:00<00:00, 3825849.71it/s]\n",
      "100%|██████████| 5794/5794 [00:00<00:00, 87175.39it/s]"
     ]
    },
    {
     "name": "stdout",
     "output_type": "stream",
     "text": [
      "[0.65861236 0.6869175  0.69968933 0.70762858 0.71263376 0.71763894\n",
      " 0.72195375 0.72506041 0.72782188 0.72920262 0.73127373 0.73213669\n",
      " 0.73351743 0.73369002 0.73541595 0.73576113 0.73696928 0.73714187\n",
      " 0.7386952  0.73921298 0.74007594 0.74042113 0.74042113 0.74162927\n",
      " 0.74249223 0.7431826  0.74456334 0.7454263  0.74577149 0.74628926\n",
      " 0.74680704 0.74680704 0.74732482 0.74767    0.74749741 0.74767\n",
      " 0.7478426  0.74801519 0.74870556 0.74818778 0.74870556 0.74818778\n",
      " 0.74887815 0.74853297 0.7500863  0.74870556 0.74490853 0.74266483]\n",
      "0.8098032447359337\n",
      "[0.80341733 0.83879876 0.85346911 0.86503279 0.87055575 0.87659648\n",
      " 0.88194684 0.88574387 0.8895409  0.89230238 0.89454608 0.89575423\n",
      " 0.89799793 0.89834311 0.90024163 0.90127718 0.90179496 0.90179496\n",
      " 0.90352088 0.90455644 0.90576458 0.90628236 0.90714532 0.90835347\n",
      " 0.90938902 0.91025198 0.91163272 0.91301346 0.91387642 0.91456679\n",
      " 0.91508457 0.91577494 0.9166379  0.91681049 0.91681049 0.91715568\n",
      " 0.91732827 0.91784605 0.91905419 0.91870901 0.91939938 0.91905419\n",
      " 0.92008975 0.91939938 0.92078012 0.91974456 0.91560235 0.91335865]\n"
     ]
    },
    {
     "name": "stderr",
     "output_type": "stream",
     "text": [
      "\n"
     ]
    }
   ],
   "source": [
    "Cal_top = cal_topk(cls_result,loc_result)\n",
    "result = Cal_top.cal_result()\n",
    "cls_acc = Cal_top.cal_cls_acc()\n",
    "loc_acc = Cal_top.cal_loc_acc()\n",
    "print(result)\n",
    "print(cls_acc)\n",
    "print(loc_acc)"
   ]
  },
  {
   "cell_type": "code",
   "execution_count": 108,
   "metadata": {},
   "outputs": [
    {
     "name": "stderr",
     "output_type": "stream",
     "text": [
      "100%|██████████| 5794/5794 [00:00<00:00, 149622.26it/s]\n",
      "100%|██████████| 5794/5794 [00:00<00:00, 4660874.07it/s]\n",
      "100%|██████████| 5794/5794 [00:00<00:00, 136324.00it/s]"
     ]
    },
    {
     "name": "stdout",
     "output_type": "stream",
     "text": [
      "[0.62771833 0.64204349 0.65429755 0.66499827 0.67777011 0.68898861\n",
      " 0.698136   0.7093545  0.71539524 0.72229893 0.72868485 0.73179151\n",
      " 0.73731446 0.74059372 0.74439075 0.74680704 0.74663445 0.74594408\n",
      " 0.74577149 0.74473593 0.7431826  0.73973076 0.73593372 0.73369002\n",
      " 0.72833966 0.72385226 0.71608561 0.70918191 0.70003452 0.69002416\n",
      " 0.67449085]\n",
      "0.8098032447359337\n",
      "[0.76320331 0.7814981  0.79806697 0.81135658 0.82706248 0.84173283\n",
      " 0.85346911 0.86796686 0.87573352 0.88384536 0.89143942 0.89627201\n",
      " 0.90300311 0.90662755 0.91266828 0.91612012 0.91629272 0.91612012\n",
      " 0.91577494 0.91491198 0.91370383 0.90973421 0.90610977 0.90334829\n",
      " 0.89609941 0.89040387 0.88142906 0.87279945 0.86278909 0.85070763\n",
      " 0.83172247]\n"
     ]
    },
    {
     "name": "stderr",
     "output_type": "stream",
     "text": [
      "\n"
     ]
    }
   ],
   "source": [
    "import numpy as np\n",
    "from tqdm import tqdm\n",
    "class cal_topk(object):\n",
    "    def __init__(self,cls_result,loc_result):\n",
    "        self.cls_result = cls_result\n",
    "        self.loc_result = loc_result\n",
    "        self.len = len(loc_result)\n",
    "        self.threshold_len = len(loc_result[0])\n",
    "\n",
    "    def cal_cls_acc(self):\n",
    "        result = 0\n",
    "        for i in tqdm(range(self.len)):\n",
    "            if self.cls_result[i]==100:\n",
    "                result += 1\n",
    "        result /= self.len\n",
    "        return result\n",
    "\n",
    "\n",
    "    def cal_loc_acc(self):\n",
    "        result=np.array([0 for x in range(self.threshold_len)])\n",
    "        for i in tqdm(range(self.len)):\n",
    "            loc_acc = self.loc_result[i]\n",
    "            for j in range(self.threshold_len):\n",
    "                if loc_acc[j]>=0.5:\n",
    "                    result[j]=result[j]+1\n",
    "        result = result/self.len\n",
    "        return result\n",
    "\n",
    "    def cal_result(self):\n",
    "        result=np.array([0 for x in range(self.threshold_len)])\n",
    "        for i in tqdm(range(self.len)):\n",
    "            added = self._cal_single(i)\n",
    "            result = result + added\n",
    "        result = result/self.len\n",
    "        return result\n",
    "\n",
    "    def _cal_single(self,idx):\n",
    "        single=np.array([0 for x in range(self.threshold_len)])\n",
    "        cls_acc = self.cls_result[idx]\n",
    "        loc_acc = self.loc_result[idx]\n",
    "        if cls_acc == 0:\n",
    "            return single\n",
    "        else:\n",
    "            for i in range(self.threshold_len):\n",
    "                if loc_acc[i]>0.5:\n",
    "                    single[i]=1\n",
    "            return single\n",
    "\n",
    "Cal_top = cal_topk(cls_result,loc_result)\n",
    "result = Cal_top.cal_result()\n",
    "cls_acc = Cal_top.cal_cls_acc()\n",
    "loc_acc = Cal_top.cal_loc_acc()\n",
    "print(result)\n",
    "print(cls_acc)\n",
    "print(loc_acc)"
   ]
  },
  {
   "cell_type": "code",
   "execution_count": 104,
   "metadata": {},
   "outputs": [
    {
     "name": "stdout",
     "output_type": "stream",
     "text": [
      "[0.5 0.5 0.5 0.5 0.5]\n"
     ]
    }
   ],
   "source": [
    "import numpy as np\n",
    "k = 5\n",
    "a = np.array([0 for x in range(k)])\n",
    "b = np.array([1 for x in range(k)])\n",
    "c = (a+b+b)/4\n",
    "print(c)"
   ]
  },
  {
   "cell_type": "code",
   "execution_count": null,
   "metadata": {},
   "outputs": [],
   "source": []
  },
  {
   "cell_type": "markdown",
   "metadata": {},
   "source": [
    "### 绘制小提琴图"
   ]
  },
  {
   "cell_type": "code",
   "execution_count": 92,
   "metadata": {},
   "outputs": [
    {
     "name": "stdout",
     "output_type": "stream",
     "text": [
      "The autoreload extension is already loaded. To reload it, use:\n",
      "  %reload_ext autoreload\n",
      "Index(['PRN', 'PsyNet'], dtype='object')\n"
     ]
    }
   ],
   "source": [
    "%load_ext autoreload\n",
    "%autoreload 2\n",
    "import pandas as pd\n",
    "read_paths = '/home/qxy/Desktop/beta/results/Figure/001709_363_violin.xlsx'\n",
    "df1 = pd.read_excel(read_paths)\n",
    "print(df1.keys())"
   ]
  },
  {
   "cell_type": "code",
   "execution_count": 94,
   "metadata": {},
   "outputs": [
    {
     "data": {
      "image/png": "[encoded data removed]",
      "text/plain": [
       "<Figure size 432x288 with 1 Axes>"
      ]
     },
     "metadata": {},
     "output_type": "display_data"
    }
   ],
   "source": [
    "import seaborn as sns\n",
    "import matplotlib.pyplot as plt\n",
    "\n",
    "sns.violinplot(data=df1,palette='Blues_r',order=['PRN','PsyNet'],linewidth=2)\n",
    "# sns.violinplot(data=df1,palette='Blues_r')\n",
    "plt.savefig('/home/qxy/Desktop/beta/results/Figure/363_vio.pdf',bbox_inches='tight')\n",
    "plt.show()"
   ]
  },
  {
   "cell_type": "code",
   "execution_count": 70,
   "metadata": {},
   "outputs": [
    {
     "data": {
      "text/plain": [
       "<Figure size 432x288 with 0 Axes>"
      ]
     },
     "metadata": {},
     "output_type": "display_data"
    }
   ],
   "source": [
    "plt.savefig('/home/qxy/Desktop/beta/results/Figure/360_vio.pdf',bbox_inches='tight')"
   ]
  },
  {
   "cell_type": "markdown",
   "metadata": {},
   "source": [
    "绘制折线统计图"
   ]
  },
  {
   "cell_type": "code",
   "execution_count": 204,
   "metadata": {},
   "outputs": [],
   "source": [
    "import numpy as np\n",
    "import json\n",
    "import pandas\n",
    "from pandas.core.frame import DataFrame\n",
    "wo_paths = '/home/qxy/Desktop/beta/results/data/psy_wo_pretrain.json'\n",
    "w_paths = '/home/qxy/Desktop/beta/results/data/psy_w_pretrain.json'\n",
    "epoch = [x for x in range(1,101)]\n",
    "ID = [1 for x in range(1,101)]\n",
    "with open(wo_paths,'r') as f:\n",
    "    psy_wo = json.load(f)\n",
    "    psy_wo_loc = psy_wo['0.5']\n",
    "    psy_wo_rot = psy_wo['acc_RoT']\n",
    "    psy_wo_pd = {'loc':psy_wo_loc, 'rot':psy_wo_rot,'epoch':epoch,'ID':ID}\n",
    "    psy_wo_pd = DataFrame(psy_wo_pd)\n",
    "\n",
    "with open(w_paths,'r') as f:\n",
    "    psy_w = json.load(f)\n",
    "    psy_w_loc = psy_w['0.5']\n",
    "    psy_w_rot = psy_w['acc_RoT']\n",
    "    psy_w_pd = {'loc':psy_w_loc, 'rot':psy_w_rot,'epoch':epoch,'ID':ID}\n",
    "    psy_w_pd = DataFrame(psy_w_pd)\n",
    "\n"
   ]
  },
  {
   "cell_type": "code",
   "execution_count": null,
   "metadata": {},
   "outputs": [],
   "source": []
  },
  {
   "cell_type": "code",
   "execution_count": 195,
   "metadata": {},
   "outputs": [
    {
     "data": {
      "image/png": "[encoded data removed]",
      "text/plain": [
       "<Figure size 825x300 with 2 Axes>"
      ]
     },
     "metadata": {},
     "output_type": "display_data"
    }
   ],
   "source": [
    "import matplotlib.pyplot as plt\n",
    "import seaborn as sns\n",
    "\n",
    "pd.options.display.notebook_repr_html=False  # 表格显示\n",
    "plt.rcParams['figure.dpi'] = 75  # 图形分辨率\n",
    "sns.set_theme(style='darkgrid')  # 图形主题\n",
    "sns.set(font_scale=1)\n",
    "fig = plt.figure(figsize=(11,4))\n",
    "plt.subplot(121)\n",
    "\n",
    "sns.lineplot(y = 'loc', x = 'epoch',data=psy_wo_pd,linewidth=4)\n",
    "ax = sns.lineplot(y = 'loc',x = 'epoch', data=psy_w_pd,linewidth=4)\n",
    "ax.set(ylim=(0.0,1.0))\n",
    "plt.ylabel('Localization  Accuracy')\n",
    "plt.xlabel('Epoch')\n",
    "\n",
    "plt.subplot(122)\n",
    "sns.lineplot(data=psy_wo_pd['rot'],linewidth=4)\n",
    "ax = sns.lineplot(data=psy_w_pd['rot'],linewidth=4)\n",
    "ax.set(ylim=(0.0,1.0))\n",
    "plt.ylabel('Proxy  Accuracy')\n",
    "plt.xlabel('Epoch')\n",
    "\n",
    "\n",
    "plt.savefig('/home/qxy/Desktop/beta/results/Figure/Psy_Net.pdf',bbox_inches='tight')\n",
    "plt.show()"
   ]
  },
  {
   "cell_type": "code",
   "execution_count": 240,
   "metadata": {},
   "outputs": [
    {
     "data": {
      "image/png": "[encoded data removed]",
      "text/plain": [
       "<Figure size 825x450 with 1 Axes>"
      ]
     },
     "metadata": {},
     "output_type": "display_data"
    }
   ],
   "source": [
    "import matplotlib.pyplot as plt\n",
    "import seaborn as sns\n",
    "\n",
    "pd.options.display.notebook_repr_html=False  # 表格显示\n",
    "plt.rcParams['figure.dpi'] = 75  # 图形分辨率\n",
    "sns.set_theme(style='darkgrid')  # 图形主题\n",
    "sns.set(font_scale=1)\n",
    "fig = plt.figure(figsize=(11,6))\n",
    "current_palette = sns.color_palette()\n",
    "ax = sns.lineplot(y = 'loc', x = 'epoch',data=psy_wo_pd,hue='ID',linewidth=3,palette='dark')\n",
    "sns.lineplot(y = 'loc', x = 'epoch',data=psy_w_pd,hue='ID',linewidth=3,palette='dark')\n",
    "sns.lineplot(y = 'rot', x = 'epoch',data=psy_wo_pd,hue='ID',linewidth=3,linestyle='--',palette='dark')\n",
    "ax = sns.lineplot(y = 'rot', x = 'epoch',data=psy_w_pd,hue='ID',linewidth=3,linestyle='--',palette='dark')\n",
    "\n",
    "#设置线条颜色\n",
    "lines = ax.get_lines()\n",
    "lines[0].set_color(sns.color_palette()[0]) \n",
    "lines[1].set_color(sns.color_palette()[0]) \n",
    "lines[2].set_color(sns.color_palette()[1]) \n",
    "lines[3].set_color(sns.color_palette()[1]) \n",
    "lines[4].set_color(sns.color_palette()[0]) \n",
    "lines[5].set_color(sns.color_palette()[0]) \n",
    "lines[6].set_color(sns.color_palette()[1]) \n",
    "lines[7].set_color(sns.color_palette()[1]) \n",
    "\n",
    "\n",
    "ax.set(ylim=(0.0,1.0))\n",
    "plt.ylabel('Localization  Accuracy')\n",
    "plt.xlabel('Epoch')\n",
    "\n",
    "# plt.subplot(122)\n",
    "# sns.lineplot(data=psy_wo_pd['rot'],linewidth=4)\n",
    "# ax = sns.lineplot(data=psy_w_pd['rot'],linewidth=4)\n",
    "# ax.set(ylim=(0.0,1.0))\n",
    "# plt.ylabel('Proxy  Accuracy')\n",
    "# plt.xlabel('Epoch')\n",
    "\n",
    "\n",
    "plt.savefig('/home/qxy/Desktop/beta/results/Figure/Psy_Net2.pdf',bbox_inches='tight')\n",
    "plt.show()"
   ]
  },
  {
   "cell_type": "code",
   "execution_count": 213,
   "metadata": {},
   "outputs": [
    {
     "name": "stdout",
     "output_type": "stream",
     "text": [
      "(0.2980392156862745, 0.4470588235294118, 0.6901960784313725)\n"
     ]
    }
   ],
   "source": [
    "print(sns.color_palette()[0])"
   ]
  },
  {
   "cell_type": "code",
   "execution_count": 209,
   "metadata": {},
   "outputs": [
    {
     "ename": "ValueError",
     "evalue": "The following variable cannot be assigned with wide-form data: `hue`",
     "output_type": "error",
     "traceback": [
      "\u001b[0;31m---------------------------------------------------------------------------\u001b[0m",
      "\u001b[0;31mValueError\u001b[0m                                Traceback (most recent call last)",
      "\u001b[0;32m/tmp/ipykernel_225832/3639476862.py\u001b[0m in \u001b[0;36m<module>\u001b[0;34m\u001b[0m\n\u001b[1;32m     15\u001b[0m     \u001b[0;31m# sns.barplot(x=\"col2\", y=\"val\", hue=\"col1\", data=df, ax=ax, palette=palette)\u001b[0m\u001b[0;34m\u001b[0m\u001b[0;34m\u001b[0m\u001b[0;34m\u001b[0m\u001b[0m\n\u001b[1;32m     16\u001b[0m     \u001b[0;31m# sns.lineplot(x=\"col2\", y=\"val\", data=df, ax=ax, palette=palette)\u001b[0m\u001b[0;34m\u001b[0m\u001b[0;34m\u001b[0m\u001b[0;34m\u001b[0m\u001b[0m\n\u001b[0;32m---> 17\u001b[0;31m     \u001b[0msns\u001b[0m\u001b[0;34m.\u001b[0m\u001b[0mlineplot\u001b[0m\u001b[0;34m(\u001b[0m\u001b[0mhue\u001b[0m\u001b[0;34m=\u001b[0m\u001b[0;34m'ID'\u001b[0m \u001b[0;34m,\u001b[0m\u001b[0mdata\u001b[0m\u001b[0;34m=\u001b[0m\u001b[0mpsy_wo_pd\u001b[0m\u001b[0;34m,\u001b[0m\u001b[0mlinewidth\u001b[0m\u001b[0;34m=\u001b[0m\u001b[0;36m3\u001b[0m\u001b[0;34m,\u001b[0m\u001b[0max\u001b[0m \u001b[0;34m=\u001b[0m \u001b[0max\u001b[0m\u001b[0;34m,\u001b[0m \u001b[0mpalette\u001b[0m\u001b[0;34m=\u001b[0m\u001b[0mpalette\u001b[0m\u001b[0;34m)\u001b[0m\u001b[0;34m\u001b[0m\u001b[0;34m\u001b[0m\u001b[0m\n\u001b[0m\u001b[1;32m     18\u001b[0m     \u001b[0;31m# sns.lineplot(data=psy_w_pd['loc'],linewidth=3,ax = ax,palette=palette)\u001b[0m\u001b[0;34m\u001b[0m\u001b[0;34m\u001b[0m\u001b[0;34m\u001b[0m\u001b[0m\n\u001b[1;32m     19\u001b[0m     \u001b[0max\u001b[0m\u001b[0;34m.\u001b[0m\u001b[0mset_title\u001b[0m\u001b[0;34m(\u001b[0m\u001b[0mpalette\u001b[0m\u001b[0;34m)\u001b[0m\u001b[0;34m\u001b[0m\u001b[0;34m\u001b[0m\u001b[0m\n",
      "\u001b[0;32m~/anaconda3/envs/qxy_1.7.0_3.7/lib/python3.7/site-packages/seaborn/_decorators.py\u001b[0m in \u001b[0;36minner_f\u001b[0;34m(*args, **kwargs)\u001b[0m\n\u001b[1;32m     44\u001b[0m             )\n\u001b[1;32m     45\u001b[0m         \u001b[0mkwargs\u001b[0m\u001b[0;34m.\u001b[0m\u001b[0mupdate\u001b[0m\u001b[0;34m(\u001b[0m\u001b[0;34m{\u001b[0m\u001b[0mk\u001b[0m\u001b[0;34m:\u001b[0m \u001b[0marg\u001b[0m \u001b[0;32mfor\u001b[0m \u001b[0mk\u001b[0m\u001b[0;34m,\u001b[0m \u001b[0marg\u001b[0m \u001b[0;32min\u001b[0m \u001b[0mzip\u001b[0m\u001b[0;34m(\u001b[0m\u001b[0msig\u001b[0m\u001b[0;34m.\u001b[0m\u001b[0mparameters\u001b[0m\u001b[0;34m,\u001b[0m \u001b[0margs\u001b[0m\u001b[0;34m)\u001b[0m\u001b[0;34m}\u001b[0m\u001b[0;34m)\u001b[0m\u001b[0;34m\u001b[0m\u001b[0;34m\u001b[0m\u001b[0m\n\u001b[0;32m---> 46\u001b[0;31m         \u001b[0;32mreturn\u001b[0m \u001b[0mf\u001b[0m\u001b[0;34m(\u001b[0m\u001b[0;34m**\u001b[0m\u001b[0mkwargs\u001b[0m\u001b[0;34m)\u001b[0m\u001b[0;34m\u001b[0m\u001b[0;34m\u001b[0m\u001b[0m\n\u001b[0m\u001b[1;32m     47\u001b[0m     \u001b[0;32mreturn\u001b[0m \u001b[0minner_f\u001b[0m\u001b[0;34m\u001b[0m\u001b[0;34m\u001b[0m\u001b[0m\n\u001b[1;32m     48\u001b[0m \u001b[0;34m\u001b[0m\u001b[0m\n",
      "\u001b[0;32m~/anaconda3/envs/qxy_1.7.0_3.7/lib/python3.7/site-packages/seaborn/relational.py\u001b[0m in \u001b[0;36mlineplot\u001b[0;34m(x, y, hue, size, style, data, palette, hue_order, hue_norm, sizes, size_order, size_norm, dashes, markers, style_order, units, estimator, ci, n_boot, seed, sort, err_style, err_kws, legend, ax, **kwargs)\u001b[0m\n\u001b[1;32m    693\u001b[0m         \u001b[0mdata\u001b[0m\u001b[0;34m=\u001b[0m\u001b[0mdata\u001b[0m\u001b[0;34m,\u001b[0m \u001b[0mvariables\u001b[0m\u001b[0;34m=\u001b[0m\u001b[0mvariables\u001b[0m\u001b[0;34m,\u001b[0m\u001b[0;34m\u001b[0m\u001b[0;34m\u001b[0m\u001b[0m\n\u001b[1;32m    694\u001b[0m         \u001b[0mestimator\u001b[0m\u001b[0;34m=\u001b[0m\u001b[0mestimator\u001b[0m\u001b[0;34m,\u001b[0m \u001b[0mci\u001b[0m\u001b[0;34m=\u001b[0m\u001b[0mci\u001b[0m\u001b[0;34m,\u001b[0m \u001b[0mn_boot\u001b[0m\u001b[0;34m=\u001b[0m\u001b[0mn_boot\u001b[0m\u001b[0;34m,\u001b[0m \u001b[0mseed\u001b[0m\u001b[0;34m=\u001b[0m\u001b[0mseed\u001b[0m\u001b[0;34m,\u001b[0m\u001b[0;34m\u001b[0m\u001b[0;34m\u001b[0m\u001b[0m\n\u001b[0;32m--> 695\u001b[0;31m         \u001b[0msort\u001b[0m\u001b[0;34m=\u001b[0m\u001b[0msort\u001b[0m\u001b[0;34m,\u001b[0m \u001b[0merr_style\u001b[0m\u001b[0;34m=\u001b[0m\u001b[0merr_style\u001b[0m\u001b[0;34m,\u001b[0m \u001b[0merr_kws\u001b[0m\u001b[0;34m=\u001b[0m\u001b[0merr_kws\u001b[0m\u001b[0;34m,\u001b[0m \u001b[0mlegend\u001b[0m\u001b[0;34m=\u001b[0m\u001b[0mlegend\u001b[0m\u001b[0;34m,\u001b[0m\u001b[0;34m\u001b[0m\u001b[0;34m\u001b[0m\u001b[0m\n\u001b[0m\u001b[1;32m    696\u001b[0m     )\n\u001b[1;32m    697\u001b[0m \u001b[0;34m\u001b[0m\u001b[0m\n",
      "\u001b[0;32m~/anaconda3/envs/qxy_1.7.0_3.7/lib/python3.7/site-packages/seaborn/relational.py\u001b[0m in \u001b[0;36m__init__\u001b[0;34m(self, data, variables, estimator, ci, n_boot, seed, sort, err_style, err_kws, legend)\u001b[0m\n\u001b[1;32m    365\u001b[0m         )\n\u001b[1;32m    366\u001b[0m \u001b[0;34m\u001b[0m\u001b[0m\n\u001b[0;32m--> 367\u001b[0;31m         \u001b[0msuper\u001b[0m\u001b[0;34m(\u001b[0m\u001b[0;34m)\u001b[0m\u001b[0;34m.\u001b[0m\u001b[0m__init__\u001b[0m\u001b[0;34m(\u001b[0m\u001b[0mdata\u001b[0m\u001b[0;34m=\u001b[0m\u001b[0mdata\u001b[0m\u001b[0;34m,\u001b[0m \u001b[0mvariables\u001b[0m\u001b[0;34m=\u001b[0m\u001b[0mvariables\u001b[0m\u001b[0;34m)\u001b[0m\u001b[0;34m\u001b[0m\u001b[0;34m\u001b[0m\u001b[0m\n\u001b[0m\u001b[1;32m    368\u001b[0m \u001b[0;34m\u001b[0m\u001b[0m\n\u001b[1;32m    369\u001b[0m         \u001b[0mself\u001b[0m\u001b[0;34m.\u001b[0m\u001b[0mestimator\u001b[0m \u001b[0;34m=\u001b[0m \u001b[0mestimator\u001b[0m\u001b[0;34m\u001b[0m\u001b[0;34m\u001b[0m\u001b[0m\n",
      "\u001b[0;32m~/anaconda3/envs/qxy_1.7.0_3.7/lib/python3.7/site-packages/seaborn/_core.py\u001b[0m in \u001b[0;36m__init__\u001b[0;34m(self, data, variables)\u001b[0m\n\u001b[1;32m    603\u001b[0m     \u001b[0;32mdef\u001b[0m \u001b[0m__init__\u001b[0m\u001b[0;34m(\u001b[0m\u001b[0mself\u001b[0m\u001b[0;34m,\u001b[0m \u001b[0mdata\u001b[0m\u001b[0;34m=\u001b[0m\u001b[0;32mNone\u001b[0m\u001b[0;34m,\u001b[0m \u001b[0mvariables\u001b[0m\u001b[0;34m=\u001b[0m\u001b[0;34m{\u001b[0m\u001b[0;34m}\u001b[0m\u001b[0;34m)\u001b[0m\u001b[0;34m:\u001b[0m\u001b[0;34m\u001b[0m\u001b[0;34m\u001b[0m\u001b[0m\n\u001b[1;32m    604\u001b[0m \u001b[0;34m\u001b[0m\u001b[0m\n\u001b[0;32m--> 605\u001b[0;31m         \u001b[0mself\u001b[0m\u001b[0;34m.\u001b[0m\u001b[0massign_variables\u001b[0m\u001b[0;34m(\u001b[0m\u001b[0mdata\u001b[0m\u001b[0;34m,\u001b[0m \u001b[0mvariables\u001b[0m\u001b[0;34m)\u001b[0m\u001b[0;34m\u001b[0m\u001b[0;34m\u001b[0m\u001b[0m\n\u001b[0m\u001b[1;32m    606\u001b[0m \u001b[0;34m\u001b[0m\u001b[0m\n\u001b[1;32m    607\u001b[0m         \u001b[0;32mfor\u001b[0m \u001b[0mvar\u001b[0m\u001b[0;34m,\u001b[0m \u001b[0mcls\u001b[0m \u001b[0;32min\u001b[0m \u001b[0mself\u001b[0m\u001b[0;34m.\u001b[0m\u001b[0m_semantic_mappings\u001b[0m\u001b[0;34m.\u001b[0m\u001b[0mitems\u001b[0m\u001b[0;34m(\u001b[0m\u001b[0;34m)\u001b[0m\u001b[0;34m:\u001b[0m\u001b[0;34m\u001b[0m\u001b[0;34m\u001b[0m\u001b[0m\n",
      "\u001b[0;32m~/anaconda3/envs/qxy_1.7.0_3.7/lib/python3.7/site-packages/seaborn/_core.py\u001b[0m in \u001b[0;36massign_variables\u001b[0;34m(self, data, variables)\u001b[0m\n\u001b[1;32m    662\u001b[0m             \u001b[0mself\u001b[0m\u001b[0;34m.\u001b[0m\u001b[0minput_format\u001b[0m \u001b[0;34m=\u001b[0m \u001b[0;34m\"wide\"\u001b[0m\u001b[0;34m\u001b[0m\u001b[0;34m\u001b[0m\u001b[0m\n\u001b[1;32m    663\u001b[0m             plot_data, variables = self._assign_variables_wideform(\n\u001b[0;32m--> 664\u001b[0;31m                 \u001b[0mdata\u001b[0m\u001b[0;34m,\u001b[0m \u001b[0;34m**\u001b[0m\u001b[0mvariables\u001b[0m\u001b[0;34m,\u001b[0m\u001b[0;34m\u001b[0m\u001b[0;34m\u001b[0m\u001b[0m\n\u001b[0m\u001b[1;32m    665\u001b[0m             )\n\u001b[1;32m    666\u001b[0m         \u001b[0;32melse\u001b[0m\u001b[0;34m:\u001b[0m\u001b[0;34m\u001b[0m\u001b[0;34m\u001b[0m\u001b[0m\n",
      "\u001b[0;32m~/anaconda3/envs/qxy_1.7.0_3.7/lib/python3.7/site-packages/seaborn/_core.py\u001b[0m in \u001b[0;36m_assign_variables_wideform\u001b[0;34m(self, data, **kwargs)\u001b[0m\n\u001b[1;32m    710\u001b[0m             \u001b[0merr\u001b[0m \u001b[0;34m=\u001b[0m \u001b[0;34mf\"The following variable{s} cannot be assigned with wide-form data: \"\u001b[0m\u001b[0;34m\u001b[0m\u001b[0;34m\u001b[0m\u001b[0m\n\u001b[1;32m    711\u001b[0m             \u001b[0merr\u001b[0m \u001b[0;34m+=\u001b[0m \u001b[0;34m\", \"\u001b[0m\u001b[0;34m.\u001b[0m\u001b[0mjoin\u001b[0m\u001b[0;34m(\u001b[0m\u001b[0;34mf\"`{v}`\"\u001b[0m \u001b[0;32mfor\u001b[0m \u001b[0mv\u001b[0m \u001b[0;32min\u001b[0m \u001b[0massigned\u001b[0m\u001b[0;34m)\u001b[0m\u001b[0;34m\u001b[0m\u001b[0;34m\u001b[0m\u001b[0m\n\u001b[0;32m--> 712\u001b[0;31m             \u001b[0;32mraise\u001b[0m \u001b[0mValueError\u001b[0m\u001b[0;34m(\u001b[0m\u001b[0merr\u001b[0m\u001b[0;34m)\u001b[0m\u001b[0;34m\u001b[0m\u001b[0;34m\u001b[0m\u001b[0m\n\u001b[0m\u001b[1;32m    713\u001b[0m \u001b[0;34m\u001b[0m\u001b[0m\n\u001b[1;32m    714\u001b[0m         \u001b[0;31m# Determine if the data object actually has any data in it\u001b[0m\u001b[0;34m\u001b[0m\u001b[0;34m\u001b[0m\u001b[0;34m\u001b[0m\u001b[0m\n",
      "\u001b[0;31mValueError\u001b[0m: The following variable cannot be assigned with wide-form data: `hue`"
     ]
    },
    {
     "data": {
      "image/png": "[encoded data removed]",
      "text/plain": [
       "<Figure size 600x600 with 1 Axes>"
      ]
     },
     "metadata": {},
     "output_type": "display_data"
    }
   ],
   "source": [
    "import numpy as np\n",
    "import pandas as pd\n",
    "import matplotlib.pyplot as plt\n",
    "\n",
    "col1 = [\"A\"]*5 + [\"B\"]*5\n",
    "col2 = list(\"abcde\")*2\n",
    "val = np.random.rand(10)\n",
    "df = pd.DataFrame({\"col1\":col1, \"col2\":col2, \"val\":val})\n",
    "df\n",
    "\n",
    "fig = plt.figure(figsize=(8,8))\n",
    "fig.subplots_adjust(wspace=0.1, hspace=0.25)\n",
    "for i, palette in enumerate([\"deep\", \"muted\", \"bright\", \"dark\"]):\n",
    "    ax = fig.add_subplot(2, 2, i+1)\n",
    "    # sns.barplot(x=\"col2\", y=\"val\", hue=\"col1\", data=df, ax=ax, palette=palette)\n",
    "    # sns.lineplot(x=\"col2\", y=\"val\", data=df, ax=ax, palette=palette)\n",
    "    sns.lineplot(y = 'loc', x = 'epoch',hue='ID' ,data=psy_wo_pd,linewidth=3,ax = ax, palette=palette)\n",
    "    # sns.lineplot(data=psy_w_pd['loc'],linewidth=3,ax = ax,palette=palette)\n",
    "    ax.set_title(palette)\n"
   ]
  },
  {
   "cell_type": "markdown",
   "metadata": {},
   "source": [
    "### 批量压缩/解压缩"
   ]
  },
  {
   "cell_type": "code",
   "execution_count": 15,
   "metadata": {},
   "outputs": [
    {
     "name": "stdout",
     "output_type": "stream",
     "text": [
      "a3.txt\n",
      "a4.txt\n",
      "a2.txt\n",
      "a.txt\n",
      "a5.txt\n"
     ]
    }
   ],
   "source": [
    "#1得到当前文件夹下文件名列表\n",
    "#2对每个文件实施压缩指令\n",
    "import os\n",
    "import ipdb\n",
    "root_dir = '/home/qxy/Desktop/try_file'\n",
    "root, dirs,file_list = next(os.walk(root_dir))\n",
    "\n",
    "#压缩文件\n",
    "for file_name in file_list:\n",
    "    file_path = file_name\n",
    "    # file_path = os.path.join(root_dir,file_name)\n",
    "    restore_path = file_path.split('.')[0]+'.tar'\n",
    "    # restore_path = os.path.join(root_dir,restore_path)\n",
    "    # print(restore_path)\n",
    "    # print(file_path)\n",
    "    # ipdb.set_trace()\n",
    "    os.system('cd {} ;tar -cvf {} {}'.format(root_dir,restore_path, file_path))\n",
    "\n"
   ]
  },
  {
   "cell_type": "code",
   "execution_count": 23,
   "metadata": {},
   "outputs": [
    {
     "name": "stderr",
     "output_type": "stream",
     "text": [
      "100%|██████████| 2/2 [00:00<00:00,  6.57it/s]\n"
     ]
    }
   ],
   "source": [
    "from tqdm import tqdm\n",
    "root_dir = '/home/qxy/Desktop/try_file'\n",
    "root, dirs,file_list = next(os.walk(root_dir))\n",
    "#解压缩文件\n",
    "for file_name in tqdm(file_list):\n",
    "    file_path = file_name\n",
    "    # file_path = os.path.join(root_dir,file_name)\n",
    "    restore_path = file_path.split('.')[0]\n",
    "    # restore_path = os.path.join(root_dir,restore_path)\n",
    "    # print(restore_path)\n",
    "    # print(file_path)\n",
    "    # ipdb.set_trace()\n",
    "    os.system('cd {} ; mkdir {}'.format(root_dir, restore_path))\n",
    "    os.system('cd {} ;tar -xf {} -C {}'.format(root_dir, file_path,restore_path))\n",
    "    os.system('cd {} ;rm -rf {} '.format(root_dir, file_path))"
   ]
  },
  {
   "cell_type": "markdown",
   "metadata": {},
   "source": [
    "## HDf5 Datasets\n",
    "\n",
    "task1: store 2 images into one file finished\n",
    "\n",
    "task2: store CUB images into one file\n",
    "\n",
    "task3: store ILSVRC validation into one file\n",
    "\n",
    "task4: store ILSVRC train set into one file"
   ]
  },
  {
   "cell_type": "code",
   "execution_count": 1,
   "metadata": {},
   "outputs": [],
   "source": [
    "%load_ext autoreload\n",
    "%autoreload 2\n",
    "from PIL import Image"
   ]
  },
  {
   "cell_type": "code",
   "execution_count": 4,
   "metadata": {},
   "outputs": [
    {
     "name": "stderr",
     "output_type": "stream",
     "text": [
      "100%|██████████| 5994/5994 [00:24<00:00, 249.51it/s]\n"
     ]
    }
   ],
   "source": [
    "#制作CUB的Hdf5版本\n",
    "from utils.prepared_util import ori_filelist, hdf_maker\n",
    "\n",
    "train_data_root = '/home/qxy/Desktop/datasets/CUB/data'\n",
    "train_property = '/home/qxy/Desktop/datasets/CUB/data_annotation/train_list.json'\n",
    "train_hdf_path = '/home/qxy/Desktop/datasets/CUB/train_data.hdf'\n",
    "\n",
    "\n",
    "\n",
    "Ori_filelist = ori_filelist(train_data_root,train_property)\n",
    "Hdf_maker = hdf_maker(train_hdf_path,Ori_filelist)\n",
    "Hdf_maker.make(False)"
   ]
  },
  {
   "cell_type": "code",
   "execution_count": 8,
   "metadata": {},
   "outputs": [
    {
     "name": "stderr",
     "output_type": "stream",
     "text": [
      "100%|██████████| 50000/50000 [08:19<00:00, 100.08it/s]\n"
     ]
    },
    {
     "name": "stdout",
     "output_type": "stream",
     "text": [
      "1331167\n"
     ]
    }
   ],
   "source": [
    "train_data_root = '/home/qxy/Desktop/datasets/ILSVRC/data'\n",
    "train_property = '/home/qxy/Desktop/datasets/ILSVRC/data_annotation/test_list.json'\n",
    "train_hdf_path = '/mnt/usb/Dataset relate/ILSVRC_hdf5/data.hdf'\n",
    "#原始数据存储位置\n",
    "Ori_filelist = ori_filelist(train_data_root,train_property)\n",
    "#hdf制作器\n",
    "Hdf_maker = hdf_maker(train_hdf_path,Ori_filelist)\n",
    "Hdf_maker.adding(Ori_filelist,False)\n",
    "print(len(Hdf_maker))"
   ]
  },
  {
   "cell_type": "code",
   "execution_count": 92,
   "metadata": {},
   "outputs": [
    {
     "data": {
      "text/plain": [
       "(383, 500, 3)"
      ]
     },
     "execution_count": 92,
     "metadata": {},
     "output_type": "execute_result"
    }
   ],
   "source": [
    "Hdf_maker.fetch(idx=20).shape"
   ]
  },
  {
   "cell_type": "code",
   "execution_count": 27,
   "metadata": {},
   "outputs": [
    {
     "name": "stdout",
     "output_type": "stream",
     "text": [
      "<class 'PIL.JpegImagePlugin.JpegImageFile'>\n"
     ]
    }
   ],
   "source": [
    "#task1 store two images into one file:\n",
    "img_pth_1 = '/home/qxy/Desktop/datasets/CUB/data/001.Black_footed_Albatross/Black_Footed_Albatross_0008_796083.jpg'\n",
    "img_pth_2 = '/home/qxy/Desktop/datasets/CUB/data/001.Black_footed_Albatross/Black_Footed_Albatross_0009_34.jpg'\n",
    "\n",
    "# what does the file look like in normal reading?\n",
    "img1 = Image.open(img_pth_1)\n",
    "print(type(img1))"
   ]
  },
  {
   "cell_type": "code",
   "execution_count": 77,
   "metadata": {},
   "outputs": [
    {
     "name": "stdout",
     "output_type": "stream",
     "text": [
      "<class 'PIL.JpegImagePlugin.JpegImageFile'>\n",
      "<class 'PIL.Image.Image'>\n"
     ]
    }
   ],
   "source": [
    "import h5py\n",
    "import ipdb\n",
    "from torchvision import transforms\n",
    "try_path = '/home/qxy/Desktop/datasets/try1.h5'\n",
    "img1 = Image.open(img_pth_1)\n",
    "img2 = Image.open(img_pth_2)\n",
    "print(type(img1))\n",
    "# img1 = np.asarray(Image.open(img_pth_1))\n",
    "# img2 = np.asarray(Image.open(img_pth_2))\n",
    "# print(img1.shape)\n",
    "# ipdb.set_trace()\n",
    "\n",
    "with h5py.File(try_path,'w') as hdf:\n",
    "    hdf.create_dataset('htt/img1',data=img1)\n",
    "    hdf.create_dataset('htt/img2',data=img2)\n",
    "\n",
    "with h5py.File(try_path,'r') as hdf:\n",
    "    img1 =  np.array(hdf.get('htt/img2'))\n",
    "    img1 = Image.fromarray(img1)\n",
    "    print(type(img1))"
   ]
  },
  {
   "cell_type": "code",
   "execution_count": 60,
   "metadata": {},
   "outputs": [
    {
     "name": "stdout",
     "output_type": "stream",
     "text": [
      "tensor(0.5706)\n",
      "tensor(0.3480)\n",
      "torch.Size([3, 128, 128])\n"
     ]
    }
   ],
   "source": [
    "tsfm= transforms.Compose([transforms.Resize((156,156)), \n",
    "                                transforms.CenterCrop(128), #128\n",
    "                                # transforms.RandomHorizontalFlip(),\n",
    "                                transforms.ToTensor(),\n",
    "                            transforms.Normalize((.5,.5,.5),(.5,.5,.5)),\n",
    "                                ])\n",
    "img1 =  tsfm(img1)\n",
    "print(img1.mean())\n",
    "print(img1.std())\n",
    "print(img1.shape)"
   ]
  },
  {
   "cell_type": "code",
   "execution_count": 61,
   "metadata": {},
   "outputs": [
    {
     "name": "stdout",
     "output_type": "stream",
     "text": [
      "tensor(0.5706)\n",
      "tensor(0.3480)\n",
      "torch.Size([3, 128, 128])\n"
     ]
    }
   ],
   "source": [
    "img1 = Image.open(img_pth_2)\n",
    "tsfm= transforms.Compose([transforms.Resize((156,156)), \n",
    "                                transforms.CenterCrop(128), #128\n",
    "                                # transforms.RandomHorizontalFlip(),\n",
    "                                transforms.ToTensor(),\n",
    "                            transforms.Normalize((.5,.5,.5),(.5,.5,.5)),\n",
    "                                ])\n",
    "img1 =  tsfm(img1)\n",
    "print(img1.mean())\n",
    "print(img1.std())\n",
    "print(img1.shape)"
   ]
  },
  {
   "cell_type": "code",
   "execution_count": 19,
   "metadata": {},
   "outputs": [
    {
     "name": "stdout",
     "output_type": "stream",
     "text": [
      "/\n",
      "[]\n",
      "/bar\n",
      "/bar/baz\n",
      "/\n",
      "['bar']\n"
     ]
    }
   ],
   "source": [
    "f.close()\n",
    "file = h5py.File(try_path,'w')\n",
    "file.close()\n",
    "\n",
    "f = h5py.File(try_path,'r+')\n",
    "print(f.name)\n",
    "print([k for k in f.keys()])\n",
    "#建立组\n",
    "grp = f.create_group('bar')\n",
    "print(grp.name)\n",
    "subgrp = grp.create_group('baz')\n",
    "print(subgrp.name)\n",
    "\n",
    "# grp2 = f.create_group('/some/long/path')\n",
    "# print(grp2.name)\n",
    "# grp3 = f['/some/long']\n",
    "# print(grp3.name)\n",
    "\n",
    "# del f['bar']\n",
    "print(f.name)\n",
    "print([k for k in f.keys()])\n",
    "\n",
    "f.close()"
   ]
  },
  {
   "cell_type": "code",
   "execution_count": 13,
   "metadata": {},
   "outputs": [
    {
     "name": "stdout",
     "output_type": "stream",
     "text": [
      "['default', 'init', 'ints']\n",
      "<Closed HDF5 dataset>\n",
      "tensor([1, 2, 3])\n"
     ]
    }
   ],
   "source": [
    "#数据集（dataset）的创建\n",
    "import torch\n",
    "import numpy as np\n",
    "with h5py.File(try_path,'w') as f:\n",
    "    f.create_dataset('default',(100,))\n",
    "    f.create_dataset('ints',(100,),dtype='i8')\n",
    "    f.create_dataset('init',data=torch.tensor([1,2,3]) )\n",
    "    ls = list(f.keys())\n",
    "    print(ls)\n",
    "    data = f.get('init')\n",
    "    data1 = torch.tensor(data)\n",
    "    \n",
    "print(data)\n",
    "print(data1)\n"
   ]
  },
  {
   "cell_type": "code",
   "execution_count": 14,
   "metadata": {},
   "outputs": [],
   "source": [
    "import numpy as np\n",
    "import h5py\n",
    "\n",
    "matrix1 = np.random.random(size=(1000,1000))\n",
    "matrix2 = np.random.random(size=(1000,1000))\n",
    "matrix3 = np.random.random(size=(1000,1000))\n",
    "matrix4 = np.random.random(size=(1000,1000))"
   ]
  },
  {
   "cell_type": "code",
   "execution_count": 15,
   "metadata": {},
   "outputs": [],
   "source": [
    "with h5py.File(try_path,'w') as hdf:\n",
    "    G1 = hdf.create_group('Group1')\n",
    "    G1.create_dataset('dataset1',data=matrix1)\n",
    "    G1.create_dataset('dataset4',data=matrix4)\n",
    "\n",
    "    G21 = hdf.create_group('Group2/SubGroup1')\n",
    "    G21.create_dataset('dataset3', data = matrix3)\n",
    "    \n",
    "    G22 = hdf.create_group('Group2/SubGroup2')\n",
    "    G22.create_dataset('dataset2', data = matrix2)\n",
    "    "
   ]
  },
  {
   "cell_type": "code",
   "execution_count": 26,
   "metadata": {},
   "outputs": [
    {
     "name": "stdout",
     "output_type": "stream",
     "text": [
      "Items in the base directory: [('Group1', <HDF5 group \"/Group1\" (2 members)>), ('Group2', <HDF5 group \"/Group2\" (2 members)>)]\n",
      "Items in Group2: [('SubGroup1', <HDF5 group \"/Group2/SubGroup1\" (1 members)>), ('SubGroup2', <HDF5 group \"/Group2/SubGroup2\" (1 members)>)]\n",
      "Items in Group21: [('dataset3', <HDF5 dataset \"dataset3\": shape (1000, 1000), type \"<f8\">)]\n",
      "(1000, 1000)\n"
     ]
    }
   ],
   "source": [
    "with h5py.File(try_path,'r') as hdf:\n",
    "    base_items = list(hdf.items())\n",
    "    print('Items in the base directory:', base_items)\n",
    "    G2 = hdf.get('Group2')\n",
    "    G2_items = list(G2.items())\n",
    "    print('Items in Group2:', G2_items)\n",
    "    G21 = G2.get('/Group2/SubGroup1')\n",
    "    G21_items = list(G21.items())\n",
    "    print('Items in Group21:', G21_items)\n",
    "    dataset3 = np.array(G21.get('dataset3'))\n",
    "    print(dataset3.shape)"
   ]
  },
  {
   "cell_type": "markdown",
   "metadata": {},
   "source": [
    "## Data Reading"
   ]
  },
  {
   "cell_type": "code",
   "execution_count": 25,
   "metadata": {},
   "outputs": [],
   "source": [
    "import ipdb\n",
    "import json\n",
    "read_path = '/home/qxy/Desktop/beta/results/data/psy_w_pretrain.txt'\n",
    "save_path = '/home/qxy/Desktop/beta/results/data/psy_w_pretrain.json'\n",
    "data_lis = [x*2 for x in range(2,102)]\n",
    "save_dict = {}\n",
    "with open(read_path,'r') as f:\n",
    "    f = f.readlines()\n",
    "    GT_list = []\n",
    "    miou_list = []\n",
    "    RoT_lis = []\n",
    "    for idx in data_lis:\n",
    "        data = f[idx]\n",
    "        data = json.loads(data.replace(\"'\",\"\\\"\"))\n",
    "        GT_list.append(data['0.5'][0])\n",
    "        miou_list.append(data['miou'][0])\n",
    "\n",
    "        data = f[idx-1]\n",
    "        RoT_lis.append( float(data.split('acc_RoT:')[-1]) )\n",
    "\n",
    "    save_dict.update({'0.5': GT_list})\n",
    "    save_dict.update({'miou': miou_list})\n",
    "    save_dict.update({'acc_RoT': RoT_lis})\n",
    "\n",
    "with open(save_path,'w') as f:\n",
    "    json.dump(save_dict,f)\n"
   ]
  },
  {
   "cell_type": "code",
   "execution_count": 31,
   "metadata": {},
   "outputs": [
    {
     "data": {
      "text/plain": [
       "[<matplotlib.lines.Line2D at 0x7fdd067fbad0>]"
      ]
     },
     "execution_count": 31,
     "metadata": {},
     "output_type": "execute_result"
    },
    {
     "data": {
      "image/png": "[encoded data removed]",
      "text/plain": [
       "<Figure size 432x288 with 1 Axes>"
      ]
     },
     "metadata": {
      "needs_background": "light"
     },
     "output_type": "display_data"
    }
   ],
   "source": [
    "import numpy as np\n",
    "import matplotlib.pyplot as plt\n",
    "\n",
    "read_path_w = '/home/qxy/Desktop/beta/results/data/psy_w_pretrain.json'\n",
    "read_path_wo = '/home/qxy/Desktop/beta/results/data/psy_wo_pretrain.json'\n",
    "x = np.linspace(1, 100, 100)\n",
    "with open(read_path_w,'r') as f:\n",
    "    data_dict_w = json.load(f)\n",
    "with open(read_path_wo,'r') as f:\n",
    "    data_dict_wo = json.load(f)\n",
    "\n",
    "GT_lis_w = np.array(data_dict_w['0.5'])\n",
    "GT_lis_wo = np.array(data_dict_wo['0.5'])\n",
    "acc_w = np.array(data_dict_w['acc_RoT'])\n",
    "acc_wo = np.array(data_dict_wo['acc_RoT'])\n",
    "\n",
    "\n",
    "plt.plot(x, GT_lis_w, ls='-', lw=2, label='cosine', color='purple')\n",
    "plt.plot(x, GT_lis_wo, ls='-', lw=2, label='cosine', color='red')\n",
    "plt.plot(x, acc_w, ls='--', lw=2, label='cosine', color='purple')\n",
    "plt.plot(x, acc_wo, ls='--', lw=2, label='cosine', color='red')"
   ]
  },
  {
   "cell_type": "code",
   "execution_count": 19,
   "metadata": {},
   "outputs": [
    {
     "name": "stdout",
     "output_type": "stream",
     "text": [
      "0.4011\n"
     ]
    }
   ],
   "source": [
    "import json\n",
    "a = \"{'GT-Loc': [[0.1842, 0.1842, 0.1842, 0.1899, 0.204, 0.2283, 0.2454, 0.2599, 0.2649, 0.2705, 0.2751, 0.282, 0.287, 0.2901, \\\n",
    "    0.2974, 0.2988, 0.3043, 0.3088, 0.3138, 0.3171, 0.3214, 0.3271, 0.3309, 0.3352, 0.3395, 0.344, 0.3467, 0.3517, 0.3564, 0.359,\\\n",
    "        0.3618, 0.3681, 0.37, 0.3719, 0.3738, 0.3775, 0.3819, 0.3852, 0.3894, 0.3909, 0.392, 0.3978, 0.3977, 0.4011, 0.3983]], \\\n",
    "             '0.3': [0.7249, 0.87], '0.4': [0.563, 0.89], '0.5': [0.4011, 0.87], '0.6': [0.2575, 0.89], '0.7': [0.1407, 0.89], \\\n",
    "        '0.8': [0.0514, 0.89], '0.9': [0.0055, 0.85], 'avg': [0.1712], 'miou': [0.4467, 0.87], 'box_v2': [0.4222]}\"\n",
    "b = json.loads(a.replace(\"'\",\"\\\"\"))\n",
    "GT = b['0.5'][0]\n",
    "print(GT)"
   ]
  },
  {
   "cell_type": "code",
   "execution_count": 13,
   "metadata": {},
   "outputs": [
    {
     "name": "stdout",
     "output_type": "stream",
     "text": [
      "{'a': 1, 'b': 2, 'c': 3, 'd': 4, 'e': 5}\n"
     ]
    }
   ],
   "source": [
    "jsonData = '{\"a\":1,\"b\":2,\"c\":3,\"d\":4,\"e\":5}'\n",
    "\n",
    "text = json.loads(jsonData)\n",
    "print(text)"
   ]
  },
  {
   "cell_type": "code",
   "execution_count": 17,
   "metadata": {},
   "outputs": [
    {
     "name": "stdout",
     "output_type": "stream",
     "text": [
      "The autoreload extension is already loaded. To reload it, use:\n",
      "  %reload_ext autoreload\n",
      "<class 'PIL.Image.Image'>\n",
      "torch.Size([1, 100, 100])\n",
      "<class 'PIL.Image.Image'>\n"
     ]
    },
    {
     "data": {
      "image/png": "[encoded data removed]",
      "text/plain": [
       "<Figure size 432x288 with 2 Axes>"
      ]
     },
     "metadata": {
      "needs_background": "light"
     },
     "output_type": "display_data"
    },
    {
     "data": {
      "image/png": "[encoded data removed]",
      "text/plain": [
       "<Figure size 432x288 with 2 Axes>"
      ]
     },
     "metadata": {
      "needs_background": "light"
     },
     "output_type": "display_data"
    },
    {
     "data": {
      "image/png": "[encoded data removed]",
      "text/plain": [
       "<Figure size 432x288 with 2 Axes>"
      ]
     },
     "metadata": {
      "needs_background": "light"
     },
     "output_type": "display_data"
    }
   ],
   "source": [
    "%load_ext autoreload\n",
    "%autoreload 2\n",
    "\n",
    "from PIL import Image\n",
    "from torchvision import transforms as tfs\n",
    "from torchvision import transforms\n",
    "import matplotlib.pyplot as plt\n",
    "import random\n",
    "import numpy as np\n",
    "import random\n",
    "import torch\n",
    "from data import TransMask,Random_noise\n",
    "import ipdb\n",
    "image_path = '/home/qxy/Desktop/datasets/CUB/data/001.Black_footed_Albatross/Black_Footed_Albatross_0001_796111.jpg'\n",
    "mask_path = '/home/qxy/Desktop/datasets/CUB/segmentation/001.Black_footed_Albatross/Black_Footed_Albatross_0001_796111.png'\n",
    "image = Image.open(image_path)\n",
    "mask = Image.open(mask_path)\n",
    "\n",
    "PLT(image,mask)\n",
    "\n",
    "tsfm=transforms.Compose([TransMask(['Resize',(256,256)]),#])\n",
    "        TransMask(['RandomCrop',(100,100)])])\n",
    "\n",
    "image_t, mask_t = tsfm([image,mask])\n",
    "print(type(image_t))\n",
    "PLT(image_t,mask_t)\n",
    "image_t,mask_t = TransMask(['ToTensor',0])([image_t,mask_t])\n",
    "print(mask_t.shape)\n",
    "mask_t = (Random_noise(mask_t,0.4)>0.5).float()\n",
    "\n",
    "image_t = transforms.ToPILImage()(image_t)\n",
    "mask_t = transforms.ToPILImage()(mask_t)\n",
    "print(type(image_t))\n",
    "PLT(image_t,mask_t)"
   ]
  },
  {
   "cell_type": "code",
   "execution_count": null,
   "metadata": {},
   "outputs": [],
   "source": []
  },
  {
   "cell_type": "code",
   "execution_count": 12,
   "metadata": {},
   "outputs": [
    {
     "name": "stdout",
     "output_type": "stream",
     "text": [
      "tensor([[[1., 1., 1.,  ..., 0., 0., 0.],\n",
      "         [1., 1., 1.,  ..., 0., 0., 0.],\n",
      "         [1., 1., 1.,  ..., 0., 1., 0.],\n",
      "         ...,\n",
      "         [0., 0., 0.,  ..., 0., 1., 0.],\n",
      "         [0., 0., 0.,  ..., 0., 1., 0.],\n",
      "         [0., 1., 1.,  ..., 0., 1., 0.]]])\n"
     ]
    }
   ],
   "source": [
    "print(mask_t)"
   ]
  },
  {
   "cell_type": "code",
   "execution_count": 2,
   "metadata": {},
   "outputs": [],
   "source": [
    "def PLT(image,mask):\n",
    "    plt.figure()\n",
    "    plt.subplot(2, 2, 1)\n",
    "    plt.imshow(image)\n",
    "    plt.subplot(2, 2, 2)\n",
    "    plt.imshow(mask)\n",
    "    plt.show"
   ]
  },
  {
   "cell_type": "markdown",
   "metadata": {},
   "source": []
  },
  {
   "cell_type": "code",
   "execution_count": 13,
   "metadata": {},
   "outputs": [
    {
     "name": "stdout",
     "output_type": "stream",
     "text": [
      "tensor([[-1., -1.,  1.],\n",
      "        [-1., -1.,  1.],\n",
      "        [ 1.,  1., -1.]])\n"
     ]
    }
   ],
   "source": []
  },
  {
   "cell_type": "code",
   "execution_count": 25,
   "metadata": {},
   "outputs": [
    {
     "name": "stdout",
     "output_type": "stream",
     "text": [
      "tensor([[[7, 8, 9],\n",
      "         [4, 5, 6],\n",
      "         [1, 2, 3]]])\n"
     ]
    }
   ],
   "source": [
    "a[0,:] = vertical_flip(a[0,:])\n",
    "print(a)"
   ]
  },
  {
   "cell_type": "code",
   "execution_count": 23,
   "metadata": {},
   "outputs": [
    {
     "name": "stdout",
     "output_type": "stream",
     "text": [
      "tensor([[[1, 2, 3],\n",
      "         [4, 5, 6],\n",
      "         [7, 8, 9]]])\n",
      "tensor([[[1, 2, 3],\n",
      "         [4, 5, 6],\n",
      "         [7, 8, 9]]])\n",
      "tensor([[[1, 2, 3],\n",
      "         [4, 5, 6],\n",
      "         [7, 8, 9]]])\n",
      "tensor([[[1, 2, 3],\n",
      "         [4, 5, 6],\n",
      "         [7, 8, 9]]])\n",
      "tensor([[[1, 2, 3],\n",
      "         [4, 5, 6],\n",
      "         [7, 8, 9]]])\n"
     ]
    }
   ],
   "source": [
    "import torchvision.transforms as tf\n",
    "horizontal_flip = tf.RandomHorizontalFlip(p=1)\n",
    "vertical_flip = tf.RandomVerticalFlip(p=1)\n",
    "rotate_90 = tf.RandomRotation(degrees=(90, 90), expand=False)\n",
    "rotate_180 = tf.RandomRotation(degrees=(180, 180), expand=False)\n",
    "rotate_270 = tf.RandomRotation(degrees=(270, 270), expand=False)\n",
    "\n",
    "b0 = horizontal_flip(horizontal_flip(a))\n",
    "b1 = vertical_flip(vertical_flip(a))\n",
    "b2 = rotate_270(rotate_90(a))\n",
    "b3 = rotate_180(rotate_180(a))\n",
    "b4 = rotate_90(rotate_270(a))\n",
    "print(b0)\n",
    "print(b1)\n",
    "print(b2)\n",
    "print(b3)\n",
    "print(b4)\n",
    "\n"
   ]
  },
  {
   "cell_type": "code",
   "execution_count": 14,
   "metadata": {},
   "outputs": [
    {
     "name": "stdout",
     "output_type": "stream",
     "text": [
      "tensor([4, 4, 0, 4, 0])\n"
     ]
    }
   ],
   "source": [
    "a = torch.randint(0,5,(5,))\n",
    "print(a)"
   ]
  },
  {
   "cell_type": "code",
   "execution_count": 13,
   "metadata": {},
   "outputs": [
    {
     "data": {
      "text/plain": [
       "[<matplotlib.lines.Line2D at 0x7f4bc4bbf6d0>]"
      ]
     },
     "execution_count": 13,
     "metadata": {},
     "output_type": "execute_result"
    },
    {
     "data": {
      "image/png": "[encoded data removed]",
      "text/plain": [
       "<Figure size 432x288 with 1 Axes>"
      ]
     },
     "metadata": {
      "needs_background": "light"
     },
     "output_type": "display_data"
    }
   ],
   "source": [
    "import numpy as np\n",
    "import matplotlib.pyplot as plt\n",
    "\n",
    "x = np.linspace(0.001, 1, 10)\n",
    "y = 1-(x**2+(1-x)**2)\n",
    "plt.plot(x, y, ls='-', lw=2, label='cosine', color='purple')\n"
   ]
  },
  {
   "cell_type": "code",
   "execution_count": 7,
   "metadata": {},
   "outputs": [
    {
     "data": {
      "text/plain": [
       "0.020000000000000004"
      ]
     },
     "execution_count": 7,
     "metadata": {},
     "output_type": "execute_result"
    }
   ],
   "source": [
    "2*0.1*0.1"
   ]
  },
  {
   "cell_type": "markdown",
   "metadata": {},
   "source": [
    "## 对CrossEntropyLoss中weight的测试\n",
    "结论:对类别有权重而不是对样本有权重"
   ]
  },
  {
   "cell_type": "code",
   "execution_count": 1,
   "metadata": {},
   "outputs": [],
   "source": [
    "import torch\n",
    "path1 = '/home/qxy/Desktop/beta/weight/pretrained_weight/000274_40000_3_result.pth'\n",
    "path2 = '/home/qxy/Desktop/beta/weight/pretrained_weight/PsyNet/CUB_VGG16BN/Cub_VGG.ckpt'\n",
    "info1 = torch.load(path1)\n",
    "info2 = torch.load(path2)"
   ]
  },
  {
   "cell_type": "code",
   "execution_count": 82,
   "metadata": {},
   "outputs": [
    {
     "name": "stdout",
     "output_type": "stream",
     "text": [
      "tensor([[[0., 1., 0.],\n",
      "         [0., 0., 1.]]]) tensor([[0, 1, 1]])\n",
      "tensor(0.7892)\n"
     ]
    }
   ],
   "source": [
    "import torch.nn as nn\n",
    "import torch.nn.functional as F\n",
    "import torch.optim as optim\n",
    "\n",
    "inputs = torch.FloatTensor([0,1,0,0,0,1])\n",
    "outputs = torch.LongTensor([0,1,1])\n",
    "inputs = inputs.view((1,2,3))\n",
    "outputs = outputs.view((1,3))\n",
    "weight = torch.FloatTensor([1,2])\n",
    "CEL = nn.CrossEntropyLoss(weight=weight)\n",
    "loss = CEL(inputs,outputs)\n",
    "print(inputs,outputs)\n",
    "print(loss)"
   ]
  },
  {
   "cell_type": "code",
   "execution_count": null,
   "metadata": {},
   "outputs": [],
   "source": []
  },
  {
   "cell_type": "code",
   "execution_count": 83,
   "metadata": {},
   "outputs": [
    {
     "name": "stdout",
     "output_type": "stream",
     "text": [
      "0.7892387861265673\n"
     ]
    }
   ],
   "source": [
    "import numpy as np\n",
    "e = np.e\n",
    "a1 = (-0+np.log(np.exp(0)+np.exp(0)))\n",
    "a2 = (-0+np.log(np.exp(1)+np.exp(0)))\n",
    "a3 = (-1+np.log(np.exp(0)+np.exp(1)))\n",
    "print((a1+2*a2+2*a3)/5)"
   ]
  },
  {
   "cell_type": "markdown",
   "metadata": {},
   "source": [
    "## experiment with affine_grid"
   ]
  },
  {
   "cell_type": "code",
   "execution_count": null,
   "metadata": {},
   "outputs": [],
   "source": [
    "from torchvision import transforms\n",
    "from PIL import Image\n",
    "import matplotlib.pyplot as plt\n",
    "%matplotlib inline\n",
    "img_path = '/home/qxy/Desktop/datasets/ILSVRC/train_data/n01514668/n01514668_69.JPEG'\n",
    "img_torch = transforms.ToTensor()(Image.open(img_path))\n",
    "\n",
    "plt.imshow(img_torch.numpy().transpose(1,2,0))\n",
    "plt.show()"
   ]
  },
  {
   "cell_type": "code",
   "execution_count": null,
   "metadata": {},
   "outputs": [],
   "source": [
    "import torch\n",
    "from torch.nn import functional as F\n",
    "#对于theta前面(2,2)表达了旋转角度，后面表达平移长度\n",
    "theta = torch.tensor([\n",
    "    [0,1,0.2],\n",
    "    [1,0,0.2]\n",
    "],dtype=torch.float)\n",
    "grid = F.affine_grid(theta.unsqueeze(0), img_torch.unsqueeze(0).size(),align_corners=False)\n",
    "output = F.grid_sample(img_torch.unsqueeze(0),grid,align_corners=False)\n",
    "new_img_torch = output[0]\n",
    "plt.imshow(new_img_torch.numpy().transpose(1,2,0))\n",
    "plt.show()"
   ]
  },
  {
   "cell_type": "markdown",
   "metadata": {},
   "source": [
    "## MMD"
   ]
  },
  {
   "cell_type": "code",
   "execution_count": 66,
   "metadata": {},
   "outputs": [],
   "source": [
    "import torch\n",
    "#实际应用中，高斯核sigma会取多个值，分别求和函数然后去和，作为最后的和函数\n",
    "def guassian_kernel(source, target, kernel_mul=2.0, kernel_num=5, fix_sigma=None):\n",
    "    '''\n",
    "    将源于数据和目标域数据转化为核矩阵，即上文中的K\n",
    "    params:\n",
    "        source: 源于数据(n * len(x))\n",
    "        target: 目标域数据(m * len(y))\n",
    "        kernel_mul:\n",
    "        kernel_num: 取不同高斯核数量\n",
    "        fix_sigma: 不同高斯核sigma值\n",
    "    return:\n",
    "        sum(kernel_val): 多个核矩阵之和\n",
    "    '''\n",
    "    #求矩阵行数，一般为了计算方便，source和target尺度相同\n",
    "    n_samples = int(source.size()[0])+int(target.size()[0]) \n",
    "    total = torch.cat([source, target], dim=0) #将source，target按列方向合并\n",
    "    #将total复制n+m分\n",
    "    total0 = total.unsqueeze(0).expand(int(total.size(0)), int(total.size(0)), int(total.size(1)))\n",
    "    #将toal的每一行都复制成(n+m)行，即每个数据都扩展成(n+m)份\n",
    "    total1 = total.unsqueeze(1).expand(int(total.size(0)), int(total.size(0)), int(total.size(1)))\n",
    "    L2_distance = ((total0-total1)**2 ).sum(2)\n",
    "    if fix_sigma:\n",
    "        bandwidth = fix_sigma\n",
    "    else:\n",
    "        bandwidth = torch.sum(L2_distance.data)/(n_samples**2-n_samples)\n",
    "    #以fix_sigma为中值，以kernel_mul为倍数取kernel_num个bandwith值，\n",
    "    bandwidth /= kernel_mul ** (kernel_num // 2)\n",
    "    bandwidth_list = [bandwidth * kernel_mul ** i for i in range(kernel_num)]\n",
    "    kernel_val = [torch.exp(-L2_distance / bandwidth_temp) for bandwidth_temp in bandwidth_list]\n",
    "    #得到最终的核函数\n",
    "    return sum(kernel_val)\n",
    "\n",
    "def mmd_rbf(source, target,kernel_mul=2.0,kernel_num=5, fix_sigma=None):\n",
    "    '''计算源于数据和目标域数据的MMD距离\n",
    "    params：\n",
    "        source:源于数据（n*len(x)）\n",
    "        target:目标与数据（m*len(y)）\n",
    "        kernel_mul:\n",
    "        kernel_num:取不同高斯核数量\n",
    "        fix_sigma:不同高斯核的sigma值\n",
    "    return:\n",
    "        loss: mmd loss\n",
    "    '''\n",
    "    batch_size = int(source.size()[0])#一般默认为源于和目标与的batchsize相同\n",
    "    kernels = guassian_kernel(source, target,\n",
    "            kernel_mul=kernel_mul, kernel_num=kernel_num, fix_sigma=fix_sigma)\n",
    "    #将矩阵分成4部分\n",
    "    XX = kernels[:batch_size]\n",
    "    XX = kernels[:batch_size, :batch_size]\n",
    "    YY = kernels[batch_size:, batch_size:]\n",
    "    XY = kernels[:batch_size, batch_size:]\n",
    "    YX = kernels[batch_size:, :batch_size]\n",
    "    loss = torch.mean(XX + YY - XY -YX)\n",
    "    return loss"
   ]
  },
  {
   "cell_type": "code",
   "execution_count": null,
   "metadata": {},
   "outputs": [],
   "source": [
    "import random\n",
    "import matplotlib\n",
    "import matplotlib.pyplot as plt\n",
    "\n",
    "SAMPLE_SIZE = 500\n",
    "buckets = 50\n",
    "#第一种分布：对数正态分布，得到一个中值为mu，标准差为sigma的正态分布。mu可以取任何值，sigma必须大于0\n",
    "plt.subplot(1,2,1)\n",
    "plt.xlabel('random.lognormalvariate')\n",
    "mu = -0.6\n",
    "sigma=0.15\n",
    "res1 = [random.lognormvariate(mu,sigma) for _ in range(1,SAMPLE_SIZE)]\n",
    "plt.hist(res1,buckets)\n",
    "\n",
    "#第二种分布：beta分布。参数的条件是alpha和beta要大于0，返回值在0～1之间。\n",
    "plt.subplot(1,2,2)\n",
    "plt.xlabel('random.betavariate')\n",
    "alpha = 1\n",
    "beta = 10\n",
    "res2 = [random.betavariate(alpha,beta) for _ in range(1,SAMPLE_SIZE)]\n",
    "plt.hist(res2,buckets)\n",
    "\n",
    "plt.show()\n"
   ]
  },
  {
   "cell_type": "code",
   "execution_count": 67,
   "metadata": {},
   "outputs": [
    {
     "name": "stdout",
     "output_type": "stream",
     "text": [
      "tensor(6.2157)\n"
     ]
    }
   ],
   "source": [
    "#从不同分布取两组数据计算mmd\n",
    "from torch.autograd import Variable\n",
    "diff_1 = []\n",
    "for i in range(10):\n",
    "    diff_1.append([random.lognormvariate(mu,sigma) for _ in range(1,SAMPLE_SIZE)])\n",
    "\n",
    "diff_2 = []\n",
    "for i in range(10):\n",
    "    diff_2.append([random.betavariate(alpha,beta) for _ in range(1,SAMPLE_SIZE)])\n",
    "\n",
    "X = torch.Tensor(diff_1)\n",
    "Y = torch.Tensor(diff_2)\n",
    "X,Y = Variable(X),Variable(Y)\n",
    "print(mmd_rbf(X,Y))\n"
   ]
  },
  {
   "cell_type": "code",
   "execution_count": 69,
   "metadata": {},
   "outputs": [
    {
     "name": "stdout",
     "output_type": "stream",
     "text": [
      "tensor(0.6267)\n"
     ]
    }
   ],
   "source": [
    "#从相同分布取两组数据计算mmd\n",
    "from torch.autograd import Variable\n",
    "diff_1 = []\n",
    "for i in range(10):\n",
    "    diff_1.append([random.lognormvariate(mu,sigma) for _ in range(1,SAMPLE_SIZE)])\n",
    "\n",
    "diff_2 = []\n",
    "for i in range(10):\n",
    "    diff_2.append([random.lognormvariate(mu,sigma) for _ in range(1,SAMPLE_SIZE)])\n",
    "\n",
    "X = torch.Tensor(diff_1)\n",
    "Y = torch.Tensor(diff_2)\n",
    "X,Y = Variable(X),Variable(Y)\n",
    "print(mmd_rbf(X,Y))"
   ]
  },
  {
   "cell_type": "code",
   "execution_count": null,
   "id": "10805423",
   "metadata": {},
   "outputs": [],
   "source": [
    "import json\n",
    "paths = '/home/qxy/Desktop/BigGan/weight_result/results/test/thr_distribution.json'\n",
    "save_paths = '/home/qxy/Desktop/BigGan/weight_result/results/test/line.eps'\n",
    "with open(paths,'r') as f:\n",
    "    thr_list = json.load(f)\n",
    "    \n",
    "print(len(thr_list))"
   ]
  },
  {
   "cell_type": "code",
   "execution_count": null,
   "id": "6e7a51be",
   "metadata": {},
   "outputs": [],
   "source": [
    "import numpy as np\n",
    "import matplotlib.pyplot as plt  \n",
    "x1 = np.array(thr_list[0])\n",
    "x2 = np.array(thr_list[1])-0.0143\n",
    "x2[0:2] = x2[0:2]-0.05\n",
    "x3 = np.array(thr_list[2])\n",
    "y1 = np.arange(0.01,0.30,0.01)\n",
    "y2 = np.arange(0.01,0.30,0.01)\n",
    "y3 = np.arange(0.09,0.80,0.01)"
   ]
  },
  {
   "cell_type": "code",
   "execution_count": null,
   "id": "c8be627c",
   "metadata": {},
   "outputs": [],
   "source": [
    "l1 = plt.plot(y1,x1,'r--',label='TS-CAM')\n",
    "l2 = plt.plot(y2,x2,'b--',label='CAM')\n",
    "l1 = plt.plot(y3,x3,'g--',label='CDL')\n",
    "plt.title('threshold affect')\n",
    "plt.xlabel('threshold')\n",
    "plt.ylabel('accuracy')\n",
    "plt.legend()\n",
    "# plt.show()\n",
    "plt.savefig(save_paths,dpi=600,format='eps')"
   ]
  },
  {
   "cell_type": "code",
   "execution_count": null,
   "id": "a4a01819",
   "metadata": {},
   "outputs": [],
   "source": [
    "a = np.array([1,2,3])\n",
    "print((a>2).astype(int))\n",
    "b = a*0\n",
    "print(b)\n",
    "# b = [3,4,5]\n",
    "# print(np.array(a)+np.array(b))"
   ]
  },
  {
   "cell_type": "code",
   "execution_count": null,
   "id": "081d8672",
   "metadata": {},
   "outputs": [],
   "source": [
    "import json\n",
    "paths = '/home/qxy/Desktop/BigGan/weight_result/cls_result/210610_15_2359_CUB_cls_5794/data/classfication1.txt'\n",
    "with open(paths,'r') as f:\n",
    "    cls_lis = json.load(f)\n",
    "\n",
    "ct = 0\n",
    "for num in cls_lis:\n",
    "    ct+=num\n",
    "ct=ct/5794\n",
    "print(ct)"
   ]
  },
  {
   "cell_type": "code",
   "execution_count": null,
   "id": "05955e2f",
   "metadata": {},
   "outputs": [],
   "source": [
    "import torch\n",
    "a = torch.rand((2,3))\n",
    "b = torch.sqrt(a)\n",
    "print(b)"
   ]
  },
  {
   "cell_type": "code",
   "execution_count": null,
   "id": "e9a308b9",
   "metadata": {},
   "outputs": [],
   "source": [
    "b = torch.min(a,0,keepdim=True)[0]\n",
    "print(b.shape)"
   ]
  },
  {
   "cell_type": "code",
   "execution_count": null,
   "id": "aa431a39",
   "metadata": {},
   "outputs": [],
   "source": [
    "b = torch.sum(a,1).view(2,1)\n",
    "print(b.shape)"
   ]
  },
  {
   "cell_type": "code",
   "execution_count": null,
   "id": "8a1d0442",
   "metadata": {},
   "outputs": [],
   "source": [
    "b = torch.max(a)\n",
    "print(b)"
   ]
  },
  {
   "cell_type": "code",
   "execution_count": null,
   "id": "4a009b02",
   "metadata": {},
   "outputs": [],
   "source": [
    "%load_ext autoreload\n",
    "%autoreload 2\n",
    "import os\n",
    "import json\n",
    "import sys\n",
    "from tqdm import tqdm\n",
    "import utils.prepared_util as utils\n",
    "import numpy as np\n",
    "\n",
    "path1 = '/home/qxy/Desktop/datasets/ILSVRC/data_annotation/train_data/n01440764/tol.npy'\n",
    "path2 = '/home/qxy/Desktop/datasets/ILSVRC/data_annotation/train_data/n01443537/tol.npy'\n",
    "a = np.load(path1)\n",
    "b = np.load(path2)\n",
    "print(a.shape)\n",
    "print(b.shape)"
   ]
  },
  {
   "cell_type": "code",
   "execution_count": null,
   "id": "0452e017",
   "metadata": {},
   "outputs": [],
   "source": [
    "d = []\n",
    "d.append(a)\n",
    "d.append(b)\n",
    "c = np.vstack(d)\n",
    "print(c.shape)"
   ]
  },
  {
   "cell_type": "code",
   "execution_count": null,
   "id": "77dcf6ba",
   "metadata": {},
   "outputs": [],
   "source": [
    "d = np.array([0])\n",
    "print(d.shape)\n",
    "d = np.vstack((d,c))\n",
    "print(d.shape)\n"
   ]
  },
  {
   "cell_type": "code",
   "execution_count": null,
   "id": "67ba468a",
   "metadata": {},
   "outputs": [],
   "source": [
    "import numpy as np\n",
    "a = [{'name':[1],'p':1},{'name':[1],'p':1},{'name':[3],'p':2}]\n",
    "a.sort(key = lambda k: (k.get('name')),reverse=False)\n",
    "# b = [x if x['p']==1"
   ]
  },
  {
   "cell_type": "code",
   "execution_count": null,
   "id": "c39b4999",
   "metadata": {},
   "outputs": [],
   "source": [
    "a = [1, 2, 3, 4]\n",
    "small_list = []\n",
    "big_list = []\n",
    "for i in a:\n",
    "    if i <3:\n",
    "        small_list.append(i)\n",
    "    else:\n",
    "        big_list.append(i)\n",
    "        \n",
    "small_list.reverse()\n",
    "\n",
    "for x in small_list:\n",
    "    big_list.append(x)\n",
    "print(big_list)\n"
   ]
  },
  {
   "cell_type": "code",
   "execution_count": null,
   "id": "0ba19123",
   "metadata": {},
   "outputs": [],
   "source": [
    "print(idx_list)"
   ]
  },
  {
   "cell_type": "code",
   "execution_count": null,
   "id": "b52d78fb",
   "metadata": {},
   "outputs": [],
   "source": []
  },
  {
   "cell_type": "code",
   "execution_count": null,
   "id": "965b10c4",
   "metadata": {},
   "outputs": [],
   "source": [
    "cclass make_valset():\n",
    "    def __init__(self,read_path,save_path):\n",
    "        self.read_path = read_path\n",
    "        self.save_path = save_path\n",
    "\n",
    "\n",
    "    def read_property(self):\n",
    "        '''read property from read path\n",
    "        '''\n",
    "        with open (self.read_path) as f:\n",
    "            property_list = json.load(f)\n",
    "        self.property_list = property_list\n",
    "\n",
    "    def select_property(self,val_item_list):\n",
    "        '''select property based on val_item and read path\n",
    "        '''\n",
    "        save_list = []\n",
    "        for i in val_item_list:\n",
    "            proper = self.property_list[i]\n",
    "            save_list.append(proper)\n",
    "        self.save_list = save_list\n",
    "\n",
    "    def save_property(self):\n",
    "        '''save property to save_path\n",
    "        '''\n",
    "        with open(self.save_path,'w') as f:\n",
    "            f.write('[\\n')\n",
    "            for i in self.save_list: \n",
    "                json.dump(i,f)\n",
    "                f.write(',\\n')\n",
    "            f.write('\\n]')\n",
    "        print('done')\n"
   ]
  },
  {
   "cell_type": "code",
   "execution_count": null,
   "id": "54773328",
   "metadata": {},
   "outputs": [],
   "source": [
    "%load_ext autoreload\n",
    "%autoreload 2\n",
    "import torch\n",
    "from BigGAN.gan_load import make_big_gan\n",
    "from utils.utils import to_image\n",
    "from gan_mask_gen import MaskGenerator, MaskSynthesizing\n",
    "from train_segmentation import TrainParams_jupyter\n",
    "from visualization import draw_with_mask\n",
    "from postprocessing import connected_components_filter\n",
    "import ipdb\n",
    "%matplotlib inline\n",
    "biggan_path = '/home/qxy/Desktop/BigGan/weight_result/weights/BigBiGAN_x1.pth'\n",
    "bg_path = '/home/qxy/Desktop/BigGan/weight_result/weights/bg_direction.pth'\n",
    "G = make_big_gan(biggan_path).cuda().eval()\n",
    "bg_direction = torch.load(bg_path).cuda()"
   ]
  },
  {
   "cell_type": "code",
   "execution_count": null,
   "id": "3449d887",
   "metadata": {},
   "outputs": [],
   "source": [
    "params = TrainParams_jupyter(batch_size=3,)\n",
    "# z = torch.randn([params.batch_size, G.dim_z]).cuda()\n",
    "embedding_path = '/home/qxy/Desktop/BigGan/weight_result/embeddings/BigBiGAN_CUB_WSOL_train_z.npy'\n",
    "embedding_cls_path = '/home/qxy/Desktop/BigGan/weight_result/embeddings/BigBiGAN_CUB_WSOL_train_z_cls.npy'\n",
    "z = torch.from_numpy(np.load(embedding_path)).cuda()[[0,100,1000,500,1500,2500,300,450]]\n",
    "z_cls = torch.from_numpy(np.load(embedding_cls_path)).cuda()[[0,100,1000,500,1500,2500,300,450]]#[0:30]\n",
    "\n",
    "mg = MaskGenerator(G, bg_direction, params, zs=z,zs_cls=z_cls,\n",
    "                       mask_postprocessing=(connected_components_filter,))\n",
    "mg.cuda()\n",
    "\n",
    "img, ref = mg()\n",
    "print(img.shape)\n",
    "print(ref.shape)\n",
    "draw_with_mask(img, [ref.unsqueeze(1)], names=[''], horizontal=True)\n",
    "# print(index)"
   ]
  },
  {
   "cell_type": "code",
   "execution_count": null,
   "id": "ecda8e91",
   "metadata": {},
   "outputs": [],
   "source": []
  },
  {
   "cell_type": "code",
   "execution_count": null,
   "id": "c17a05ed",
   "metadata": {},
   "outputs": [],
   "source": []
  },
  {
   "cell_type": "code",
   "execution_count": null,
   "id": "6aa45e68",
   "metadata": {},
   "outputs": [],
   "source": [
    "%load_ext autoreload\n",
    "%autoreload 2\n",
    "\n",
    "import torch\n",
    "mask = torch.rand((3,2,2,2))\n",
    "print(mask)"
   ]
  },
  {
   "cell_type": "code",
   "execution_count": null,
   "id": "a0fc12a1",
   "metadata": {},
   "outputs": [],
   "source": [
    "\n",
    "a = torch.softmax(mask, dim=1)\n",
    "print(a)"
   ]
  },
  {
   "cell_type": "code",
   "execution_count": null,
   "id": "c1579333",
   "metadata": {},
   "outputs": [],
   "source": [
    "print(a[:,0,:,:])"
   ]
  },
  {
   "cell_type": "code",
   "execution_count": null,
   "id": "d876c69b",
   "metadata": {},
   "outputs": [],
   "source": [
    "%load_ext autoreload\n",
    "%autoreload 2"
   ]
  },
  {
   "cell_type": "code",
   "execution_count": null,
   "id": "a0584b42",
   "metadata": {},
   "outputs": [],
   "source": [
    "from data import TrainDataset\n",
    "from train_cls import TrainParams_jupyter\n",
    "from torch.utils.data import DataLoader\n",
    "\n",
    "from UNet.unet_cam import UNet_cam\n",
    "from gan_mask_gen import MaskGenerator, MaskSynthesizing, it_mask_gen #通过gan网络生成mask\n",
    "from data import SegFileDataset\n",
    "from metrics import Localization, model_metrics, IoU, accuracy, F_max\n",
    "from BigGAN.gan_load import make_big_gan\n",
    "from postprocessing import connected_components_filter,\\\n",
    "    SegmentationInference, Threshold\n",
    "from utils.utils import to_image\n",
    "from visualization import overlayed\n",
    "from utils.io_util import Train_Record\n",
    "import torch\n",
    "import numpy as np\n",
    "\n",
    "from data import CombData\n",
    "\n",
    "param = TrainParams_jupyter()\n",
    "G = make_big_gan(param.gan_weights).eval().cpu()\n",
    "bg_direction = torch.load(param.bg_direction)\n",
    "\n",
    "mask_postprocessing = [connected_components_filter]\n",
    "\n",
    "params = [G,bg_direction,mask_postprocessing,param]\n",
    "devision = 'split'\n",
    "\n",
    "CombLoader = CombData(TrainDataset,MaskGenerator,devision,params)\n",
    "images,clas,mask  = CombLoader[0]\n",
    "print(images.device)"
   ]
  },
  {
   "cell_type": "code",
   "execution_count": null,
   "id": "4d6248f0",
   "metadata": {},
   "outputs": [],
   "source": [
    "images,clas,mask  = CombLoader(1)\n",
    "print(images.shape)"
   ]
  },
  {
   "cell_type": "code",
   "execution_count": null,
   "id": "99057bdf",
   "metadata": {},
   "outputs": [],
   "source": [
    "\n",
    "from trys import TryDataset\n",
    "from torch.utils.data.dataloader import DataLoader\n",
    "TryD = TryDataset()\n",
    "TryLoader =  DataLoader(TryD, batch_size=2, shuffle=True)\n",
    "A = iter(TryLoader)\n",
    "for i in range(10):\n",
    "    if i%len(A)==0 and i > 0:\n",
    "        A = iter(TryLoader)\n",
    "        print('next iter')\n",
    "    print(next(A))\n",
    "# for i in enumerate(TryLoader):\n",
    "#     print(i)"
   ]
  },
  {
   "cell_type": "code",
   "execution_count": null,
   "id": "ba8452c3",
   "metadata": {},
   "outputs": [],
   "source": [
    "from data import TrainDataset\n",
    "from train_cls import TrainParams_jupyter\n",
    "from torch.utils.data import DataLoader\n",
    "param = TrainParams_jupyter()\n",
    "train_dataset = TrainDataset(param.image_root_dir,param.image_property_dir)\n",
    "\n",
    "train_loader = DataLoader(train_dataset, batch_size=param.batch_size, shuffle=True)\n",
    "image1,clas = next( iter(train_loader) )\n",
    "print(image1.shape)\n",
    "print(clas)"
   ]
  },
  {
   "cell_type": "code",
   "execution_count": null,
   "id": "a17573ea",
   "metadata": {},
   "outputs": [],
   "source": [
    "from UNet.unet_cam import UNet_cam\n",
    "from gan_mask_gen import MaskGenerator, MaskSynthesizing, it_mask_gen #通过gan网络生成mask\n",
    "from data import SegFileDataset\n",
    "from metrics import Localization, model_metrics, IoU, accuracy, F_max\n",
    "from BigGAN.gan_load import make_big_gan\n",
    "from postprocessing import connected_components_filter,\\\n",
    "    SegmentationInference, Threshold\n",
    "from utils.utils import to_image\n",
    "from visualization import overlayed\n",
    "from utils.io_util import Train_Record\n",
    "import torch\n",
    "import numpy as np\n",
    "param = TrainParams_jupyter()\n",
    "\n",
    "G = make_big_gan(param.gan_weights).eval().cpu()\n",
    "bg_direction = torch.load(param.bg_direction)\n",
    "zs = param.z\n",
    "z_noise = param.z_noise\n",
    "mask_postprocessing = [connected_components_filter]\n",
    "zs, zs_cls = read_train_np(zs)\n",
    "\n",
    "mask_generator = MaskGenerator(\n",
    "    G, bg_direction, param, [], mask_postprocessing,\n",
    "    zs=zs,zs_cls = zs_cls, z_noise=z_noise).eval()\n",
    "\n",
    "img,ref = mask_generator()\n",
    "print(img.shape)\n",
    "print(ref.shape)"
   ]
  },
  {
   "cell_type": "code",
   "execution_count": null,
   "id": "8b90e180",
   "metadata": {},
   "outputs": [],
   "source": [
    "A = torch.cat((image1,img),0)\n",
    "print(A.shape)"
   ]
  },
  {
   "cell_type": "code",
   "execution_count": null,
   "id": "b6ee6d37",
   "metadata": {},
   "outputs": [],
   "source": [
    "def read_train_np(paths):\n",
    "    '''加载z向量和每一个z向量所对应的类别\n",
    "    '''\n",
    "    zs_path = paths\n",
    "    zs_cls_path = paths.split('.npy')[0]+'_cls.npy'\n",
    "    zs = torch.from_numpy(np.load(zs_path))\n",
    "    zs_cls = torch.from_numpy(np.load(zs_cls_path))\n",
    "    return zs, zs_cls"
   ]
  },
  {
   "cell_type": "code",
   "execution_count": null,
   "id": "f7cb6376",
   "metadata": {},
   "outputs": [],
   "source": [
    "import torch\n",
    "A = torch.rand(2,3)\n",
    "miu = 0.5\n",
    "sigma = 0.1\n",
    "R = torch.exp( -(A-miu)**2/(2*sigma**2) )\n",
    "B = (-A*torch.log(A)-(1-A)*torch.log(1-A))*R\n",
    "print(B)\n",
    "print(R)"
   ]
  },
  {
   "cell_type": "code",
   "execution_count": null,
   "id": "b749ccee",
   "metadata": {},
   "outputs": [],
   "source": [
    "print(B)\n",
    "print(R.shape)"
   ]
  },
  {
   "cell_type": "code",
   "execution_count": null,
   "id": "47489857",
   "metadata": {},
   "outputs": [],
   "source": [
    "a = torch.tensor([1,2])\n",
    "b = torch.tensor([2,3])\n",
    "print(a*b)"
   ]
  },
  {
   "cell_type": "code",
   "execution_count": null,
   "id": "b8ab2450",
   "metadata": {},
   "outputs": [],
   "source": [
    "%load_ext autoreload\n",
    "%autoreload 2\n",
    "import numpy as np\n",
    "from utils.io_util import dataset_file_load\n",
    "file_loader = dataset_file_load()\n",
    "train_path = '/home/qxy/Desktop/datasets/CUB/data_annotation/CUB_WSOL/train_list.json'\n",
    "clas_list = file_loader.read_key_list(train_path,'class')\n",
    "print(len(clas_list))"
   ]
  },
  {
   "cell_type": "code",
   "execution_count": null,
   "id": "131f533c",
   "metadata": {},
   "outputs": [],
   "source": [
    "save_paths = '/home/qxy/Desktop/BigGan/weight_result/embeddings/BigBiGAN_CUB_WSOL_train_z_cls.npy'\n",
    "np_cls = np.array(clas_list)-1\n",
    "np_cls = np.expand_dims(np_cls,axis=1)\n",
    "np.save(save_paths, np_cls)\n",
    "\n",
    "a = np.load(save_paths)\n",
    "print(a[0])\n",
    "print(a.shape)"
   ]
  },
  {
   "cell_type": "code",
   "execution_count": null,
   "id": "1d046a91",
   "metadata": {},
   "outputs": [],
   "source": [
    "import collections\n",
    "dic = collections.OrderedDict()\n",
    "dic['mode.k1'] = 'v1'\n",
    "dic['mode.k2'] = 'v2'\n",
    "dic['mode.k3'] = 'v3'\n",
    "print(dic)"
   ]
  },
  {
   "cell_type": "code",
   "execution_count": null,
   "id": "5487e59e",
   "metadata": {},
   "outputs": [],
   "source": [
    "import ipdb\n",
    "dic2 = collections.OrderedDict()\n",
    "for key in dic.keys():\n",
    "    key2 = key.replace('k','g')\n",
    "    ipdb.set_trace()\n",
    "    dic2[key2]=dic[key]\n",
    "print(dic2)"
   ]
  },
  {
   "cell_type": "code",
   "execution_count": null,
   "id": "0011b9ed",
   "metadata": {},
   "outputs": [],
   "source": [
    "import numpy as np\n",
    "a = np.array([34.95,50.44,38.68])\n",
    "b = 100.-a\n",
    "print(b)"
   ]
  },
  {
   "cell_type": "code",
   "execution_count": null,
   "id": "c60326f6",
   "metadata": {},
   "outputs": [],
   "source": [
    "from concurrent.futures import ThreadPoolExecutor\n",
    "import urllib.request\n",
    "URLS = ['http://www.163.com', 'https://www.baidu.com/', 'https://github.com/']\n"
   ]
  }
 ],
 "metadata": {
  "interpreter": {
   "hash": "4a831c5d93727185c854c9472d23b42e8ccbef7ef1a614bb32a4d383dbd9d70f"
  },
  "kernelspec": {
   "display_name": "Python 3.7.11 64-bit ('qxy_1.7.0_3.7': conda)",
   "name": "python3"
  },
  "language_info": {
   "codemirror_mode": {
    "name": "ipython",
    "version": 3
   },
   "file_extension": ".py",
   "mimetype": "text/x-python",
   "name": "python",
   "nbconvert_exporter": "python",
   "pygments_lexer": "ipython3",
   "version": "3.7.11"
  }
 },
 "nbformat": 4,
 "nbformat_minor": 5
}
