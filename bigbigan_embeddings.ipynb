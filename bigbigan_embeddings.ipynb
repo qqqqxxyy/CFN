{
 "cells": [
  {
   "cell_type": "code",
   "execution_count": 4,
   "metadata": {},
   "outputs": [
    {
     "name": "stdout",
     "output_type": "stream",
     "text": [
      "The autoreload extension is already loaded. To reload it, use:\n",
      "  %reload_ext autoreload\n",
      "INFO:tensorflow:Saver not created because there are no variables in the graph to restore\n",
      "INFO:tensorflow:Saver not created because there are no variables in the graph to restore\n",
      "INFO:tensorflow:Saver not created because there are no variables in the graph to restore\n"
     ]
    },
    {
     "name": "stderr",
     "output_type": "stream",
     "text": [
      "2022-05-22 22:18:03.070126: I tensorflow/stream_executor/cuda/cuda_gpu_executor.cc:983] successful NUMA node read from SysFS had negative value (-1), but there must be at least one NUMA node, so returning NUMA node zero\n",
      "2022-05-22 22:18:03.070478: I tensorflow/core/common_runtime/gpu/gpu_device.cc:1639] Found device 0 with properties: \n",
      "name: NVIDIA GeForce RTX 2060 major: 7 minor: 5 memoryClockRate(GHz): 1.68\n",
      "pciBusID: 0000:01:00.0\n",
      "2022-05-22 22:18:03.070613: W tensorflow/stream_executor/platform/default/dso_loader.cc:55] Could not load dynamic library 'libcudart.so.10.0'; dlerror: libcudart.so.10.0: cannot open shared object file: No such file or directory\n",
      "2022-05-22 22:18:03.070660: W tensorflow/stream_executor/platform/default/dso_loader.cc:55] Could not load dynamic library 'libcublas.so.10.0'; dlerror: libcublas.so.10.0: cannot open shared object file: No such file or directory\n",
      "2022-05-22 22:18:03.070701: W tensorflow/stream_executor/platform/default/dso_loader.cc:55] Could not load dynamic library 'libcufft.so.10.0'; dlerror: libcufft.so.10.0: cannot open shared object file: No such file or directory\n",
      "2022-05-22 22:18:03.070742: W tensorflow/stream_executor/platform/default/dso_loader.cc:55] Could not load dynamic library 'libcurand.so.10.0'; dlerror: libcurand.so.10.0: cannot open shared object file: No such file or directory\n",
      "2022-05-22 22:18:03.070786: W tensorflow/stream_executor/platform/default/dso_loader.cc:55] Could not load dynamic library 'libcusolver.so.10.0'; dlerror: libcusolver.so.10.0: cannot open shared object file: No such file or directory\n",
      "2022-05-22 22:18:03.070825: W tensorflow/stream_executor/platform/default/dso_loader.cc:55] Could not load dynamic library 'libcusparse.so.10.0'; dlerror: libcusparse.so.10.0: cannot open shared object file: No such file or directory\n",
      "2022-05-22 22:18:03.070865: W tensorflow/stream_executor/platform/default/dso_loader.cc:55] Could not load dynamic library 'libcudnn.so.7'; dlerror: libcudnn.so.7: cannot open shared object file: No such file or directory\n",
      "2022-05-22 22:18:03.070872: W tensorflow/core/common_runtime/gpu/gpu_device.cc:1662] Cannot dlopen some GPU libraries. Please make sure the missing libraries mentioned above are installed properly if you would like to use GPU. Follow the guide at https://www.tensorflow.org/install/gpu for how to download and setup the required libraries for your platform.\n",
      "Skipping registering GPU devices...\n",
      "2022-05-22 22:18:03.070882: I tensorflow/core/common_runtime/gpu/gpu_device.cc:1180] Device interconnect StreamExecutor with strength 1 edge matrix:\n",
      "2022-05-22 22:18:03.070886: I tensorflow/core/common_runtime/gpu/gpu_device.cc:1186]      0 \n",
      "2022-05-22 22:18:03.070890: I tensorflow/core/common_runtime/gpu/gpu_device.cc:1199] 0:   N \n",
      "/home/qxy/anaconda3/envs/qxy_1.4.0_3.7/lib/python3.7/site-packages/tensorflow_core/python/client/session.py:1750: UserWarning: An interactive session is already active. This can cause out-of-memory errors in some cases. You must explicitly call `InteractiveSession.close()` to release resources held by the other session(s).\n",
      "  warnings.warn('An interactive session is already active. This can '\n"
     ]
    }
   ],
   "source": [
    "%matplotlib inline\n",
    "%load_ext autoreload\n",
    "%autoreload 2\n",
    "\n",
    "import os\n",
    "import sys\n",
    "sys.path.append(os.getcwd())\n",
    "import numpy as np\n",
    "from matplotlib import pyplot as plt\n",
    "\n",
    "import tensorflow as tf\n",
    "import tensorflow_hub as hub\n",
    "import ipdb\n",
    "\n",
    "tf.reset_default_graph()\n",
    "dim_z = 120\n",
    "\n",
    "DATA_DIR = '/home/qxy/Desktop/datasets/Car/data_annotation/train_list.json'\n",
    "EMBEDDINGS_FILE = '/home/qxy/Desktop/beta/weight/pretrained_weight/embeddings/BigBiGAN_Car_q_z.npy'\n",
    "img_dir = '/home/qxy/Desktop/datasets/Car/data'\n",
    "# Load BigBiGAN module.\n",
    "paths = '/home/qxy/Desktop/BigGan/weight_result/weights/biggan_resnet50_1'\n",
    "# ipdb.set_trace()\n",
    "module = hub.Module(paths)  # small encoder\n",
    "# module = hub.Module('https://tfhub.dev/deepmind/bigbigan-revnet50x4/1')  # large encoder\n",
    "\n",
    "z = tf.random.truncated_normal([24, 120])  # latent samples\n",
    "gen_samples = module(z, signature='generate')\n",
    "\n",
    "images = tf.placeholder(tf.float32, shape=[None, 256, 256, 3])\n",
    "features = module(images, signature='encode', as_dict=True)\n",
    "z_sample = features['z_sample']  # shape [?, 120]\n",
    "\n",
    "#通过z_sample生成图像 or 通过图像生成z_sample\n",
    "recons = module(z_sample, signature='generate')  # shape [?, 128, 128, 3]\n",
    "\n",
    "\n",
    "sess = tf.compat.v1.InteractiveSession()\n",
    "initializer = tf.compat.v1.global_variables_initializer()\n",
    "sess.run(initializer)"
   ]
  },
  {
   "cell_type": "code",
   "execution_count": null,
   "metadata": {},
   "outputs": [],
   "source": [
    "from torchvision import transforms\n",
    "from data import FiledDataset\n",
    "\n",
    "ds = FiledDataset(\n",
    "    img_dir,\n",
    "    DATA_DIR,\n",
    "    transform=transforms.Compose([\n",
    "        transforms.Resize(256),\n",
    "        transforms.CenterCrop(256),\n",
    "        transforms.ToTensor(),\n",
    "        lambda x: (2.0 * x - 1.0).permute(1, 2, 0).numpy()\n",
    "    ]))\n",
    "\n",
    "\n",
    "gen_np = np.stack([ds[i] for i in range(10, 20)])\n",
    "recons_np = sess.run(recons, feed_dict={images: gen_np})\n",
    "\n",
    "plt.figure(figsize=(10, 2), dpi=200)\n",
    "batch = gen_np.shape[0]\n",
    "\n",
    "for i in range(batch):\n",
    "    plt.subplot(2, len(gen_np), i + 1)\n",
    "    plt.axis('off')\n",
    "    plt.imshow(0.5 * gen_np[i] + 0.5)\n",
    "\n",
    "    plt.subplot(2, len(gen_np), len(gen_np) + i + 1)\n",
    "    plt.axis('off')\n",
    "    plt.imshow(0.5 * recons_np[i] + 0.5)"
   ]
  },
  {
   "cell_type": "code",
   "execution_count": 6,
   "metadata": {},
   "outputs": [
    {
     "name": "stderr",
     "output_type": "stream",
     "text": [
      " 28%|██▊       | 23/81 [02:04<05:05,  5.27s/it]"
     ]
    }
   ],
   "source": [
    "from tqdm import tqdm\n",
    "\n",
    "batch_size = 100\n",
    "emdeddings = []\n",
    "\n",
    "all_indices = np.arange(0, len(ds))\n",
    "count = len(all_indices)\n",
    "for batch_start in tqdm(np.arange(0, count, batch_size), total=count // batch_size):\n",
    "    low, up = batch_start, min(batch_start + batch_size, count)\n",
    "    gen_np = np.stack([ds[i] for i in all_indices[low: up]])\n",
    "    emdeddings.append(sess.run(features, feed_dict={images: gen_np}))#这个run是在运行模型"
   ]
  },
  {
   "cell_type": "code",
   "execution_count": 7,
   "metadata": {},
   "outputs": [],
   "source": [
    "zs = [e['z_sample'] for e in emdeddings]\n",
    "zs = np.vstack(zs)\n",
    "np.save(EMBEDDINGS_FILE, zs)"
   ]
  },
  {
   "cell_type": "code",
   "execution_count": 5,
   "metadata": {},
   "outputs": [
    {
     "name": "stdout",
     "output_type": "stream",
     "text": [
      "(60, 120)\n"
     ]
    }
   ],
   "source": [
    "paths = '/home/qxy/Desktop/beta/weight/pretrained_weight/embeddings/BigBiGAN_Car_q_z.npy'\n",
    "a = np.load(paths)\n",
    "print(a.shape)"
   ]
  },
  {
   "cell_type": "code",
   "execution_count": null,
   "metadata": {},
   "outputs": [],
   "source": []
  }
 ],
 "metadata": {
  "interpreter": {
   "hash": "73a2de835501816cf39e7b895a829738a13dd333298eaabd54f7fea657ab5a84"
  },
  "kernelspec": {
   "display_name": "Python 3.7.10 64-bit ('qxy_1.4.0_3.7': conda)",
   "name": "python3"
  },
  "language_info": {
   "codemirror_mode": {
    "name": "ipython",
    "version": 3
   },
   "file_extension": ".py",
   "mimetype": "text/x-python",
   "name": "python",
   "nbconvert_exporter": "python",
   "pygments_lexer": "ipython3",
   "version": "3.7.10"
  }
 },
 "nbformat": 4,
 "nbformat_minor": 2
}
